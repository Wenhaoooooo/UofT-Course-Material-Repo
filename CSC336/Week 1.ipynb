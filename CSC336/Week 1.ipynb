{
 "cells": [
  {
   "cell_type": "markdown",
   "metadata": {},
   "source": [
    "### Representation of numbers\n",
    "#### Integers\n",
    " - Base b system: $(base=b\\in\\mathbb{Z}^+): \\forall x\\in\\mathbb{Z}^+. x={(d_nd_{n-1}...d_0)}_b=\\sum_{i=0}^n d_i\\times b^i, 0\\leq d_i < b, d_i\\in \\mathbb{Z}^+$\n",
    " - Adding an extra sign to represent positive / negative, in computer, 0/1\n",
    " - Converting decimal to base b: repeatedly divide the decimal number x by the base b, take the remainder each time, then the remainders are $d_0,...,d_n$\n",
    "\n",
    "#### Reals\n",
    " - Base b system: extend the integers representation to the fraction part: $.x={(.d_{-1}d_{-2}...d_{-n})}_b=\\sum_{i=1}^\\infty d_{-i}\\times b^{-i}$\n",
    " - Every binary fraction can be mapped to a decimal fraction, but not the converse\n",
    " - Converting decimal to binary: repeatedly multiple the decimal fraction x by 2, take the integer, until the fraction part is 0. Then the integers are $d_{-1},...d_{-n}$"
   ]
  },
  {
   "cell_type": "markdown",
   "metadata": {},
   "source": [
    "### Computer Representation of Numbers\n",
    "#### Simplified form\n",
    "$$x = (f)_b\\times b^{(e)_b} \\\\ \n",
    "f = \\pm(.d_1d_2...d_t)_b\\:(mantissa \\:|\\: significand) \\\\\n",
    "e = \\pm (c_{s-1}c_{s-2}...c_0)_b\\:(exponent\\:|\\: characteristic)$$\n",
    "- **normalized floating-point number**  if $d_1\\neq 0$ or $f=0$\n",
    "- $0\\leq|f|<1$\n",
    "\n",
    "#### Limits\n",
    "- The exponent $e$ is limited by $E_{min}\\leq e\\leq E_{max}, -E_{min}=E_{max}=(aa...a)_b, a = b-1$\n",
    "- The largest floating point number **Overflow Level (OFL)** is $N_{max} = (.aa...a)_b\\times b^{(aa...a)_b}$\n",
    "- The smallest floating point number **Underflow Level (UFL)** is $N_{min}=(.100...0)_b\\times b^{-(aa...a)_b}$ (normalized, what we often consider), $N_{min}=(.00...1)_b\\times b^{-(aa...a)_b}$ (non-normalized)\n",
    "\n",
    "#### Set of floating point numbers\n",
    "- **$R_b(t,s)$** the set of all base b floating point numbers that can be represented by $t$ b-digits mantissa and $s$ b-digits exponent\n",
    "- $R_b(t,s) = [-OFL, -UFL]\\cup {0} \\cup [UFL, OFL]$, **Overflow** if in $(-\\infty, -OFL)\\cup(OFL,\\infty)$, **Underflow** if in $(-UFL,UFL)-{0}$\n",
    "- $R_b(t,s)$ is finite, discrete, and more condensed towards 0\n"
   ]
  }
 ],
 "metadata": {
  "kernelspec": {
   "display_name": "Python 3",
   "language": "python",
   "name": "python3"
  },
  "language_info": {
   "codemirror_mode": {
    "name": "ipython",
    "version": 3
   },
   "file_extension": ".py",
   "mimetype": "text/x-python",
   "name": "python",
   "nbconvert_exporter": "python",
   "pygments_lexer": "ipython3",
   "version": "3.7.1"
  }
 },
 "nbformat": 4,
 "nbformat_minor": 2
}
