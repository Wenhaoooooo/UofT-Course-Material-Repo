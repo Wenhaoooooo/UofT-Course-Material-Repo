{
 "cells": [
  {
   "cell_type": "code",
   "execution_count": 10,
   "metadata": {},
   "outputs": [
    {
     "name": "stdout",
     "output_type": "stream",
     "text": [
      "\n",
      "A =\n",
      "\n",
      "     1     2     3\n",
      "     4     5     6\n",
      "\n",
      "\n",
      "A2 =\n",
      "\n",
      "     1     2     3\n",
      "     4     5     6\n",
      "\n",
      "\n",
      "x =\n",
      "\n",
      "    -1\n",
      "     0\n",
      "    -2\n",
      "\n",
      "\n"
     ]
    }
   ],
   "source": [
    "A = [1 2 3; 4 5 6] % 2*3 matrix, ; separated rows\n",
    "\n",
    "A2 = [1 2 3\n",
    "      4 5 6] % we can also put it in this way\n",
    "      \n",
    "x = [-1; 0; -2] % 3*1 matrix"
   ]
  },
  {
   "cell_type": "code",
   "execution_count": 6,
   "metadata": {},
   "outputs": [
    {
     "name": "stdout",
     "output_type": "stream",
     "text": [
      "\n",
      "b =\n",
      "\n",
      "    -7\n",
      "   -16\n",
      "\n",
      "\n"
     ]
    }
   ],
   "source": [
    "b = A * x % multiplication b_2*1"
   ]
  },
  {
   "cell_type": "code",
   "execution_count": 7,
   "metadata": {},
   "outputs": [
    {
     "name": "stdout",
     "output_type": "stream",
     "text": [
      "\n",
      "ans =\n",
      "\n",
      "   1.8600e+02 + 1.0000e+00i\n",
      "\n",
      "\n"
     ]
    }
   ],
   "source": [
    "100 + (32 - 17) * 5 + 2^3 + exp(1.1) + sqrt(-1) % some common math operations"
   ]
  },
  {
   "cell_type": "markdown",
   "metadata": {},
   "source": [
    "- Any unassigned value will be stored in 'ans'\n",
    "- 'pi' is designated for $\\pi$ = _4*atan(1)_\n",
    "- Complex number will be outputted in $a+bi$\n",
    "- 'i', 'j' are designated for $\\sqrt{-1}$ = _sqrt(-1)_.\n",
    "- _clear_ will clear all values stored, _clear a_ will clear the value stored in _a_"
   ]
  },
  {
   "cell_type": "code",
   "execution_count": 22,
   "metadata": {},
   "outputs": [
    {
     "name": "stdout",
     "output_type": "stream",
     "text": [
      "\n",
      "ans =\n",
      "\n",
      "     2\n",
      "\n",
      "\n",
      "A =\n",
      "\n",
      "     1     2     3     0\n",
      "     4     5     6     0\n",
      "     0     0     0    10\n",
      "\n",
      "\n",
      "ans =\n",
      "\n",
      "     4     5\n",
      "     0     0\n",
      "\n",
      "\n",
      "ans =\n",
      "\n",
      "     1     2     3\n",
      "     4     5     6\n",
      "     0     0     0\n",
      "\n",
      "\n",
      "ans =\n",
      "\n",
      "     4     5     6     0\n",
      "     0     0     0    10\n",
      "\n",
      "\n"
     ]
    }
   ],
   "source": [
    "A(1,2) % variable(i, j) access the ith row, jth column of the variable\n",
    "A(3,4) = 10 % assign A(3,4) to 10, since A is 2*3, it will be expanded dynamically\n",
    "A(2:3, 1:2) % variable(r1:r2, c1:c2) extract the r1 to r2 rows, c1 to c2 columns, inclusively\n",
    "A(: , 1:3)\n",
    "A(2:3, :)"
   ]
  },
  {
   "cell_type": "code",
   "execution_count": 27,
   "metadata": {},
   "outputs": [
    {
     "name": "stdout",
     "output_type": "stream",
     "text": [
      "\n",
      "a =\n",
      "\n",
      "     2     4     6\n",
      "\n",
      "\n",
      "b =\n",
      "\n",
      "     2     3     4     5     6\n",
      "\n",
      "\n"
     ]
    }
   ],
   "source": [
    "a = 2:2:6 % begin: step: end returns a list\n",
    "b = 2:6 % begin: end == begin:1:end"
   ]
  },
  {
   "cell_type": "code",
   "execution_count": 31,
   "metadata": {},
   "outputs": [
    {
     "name": "stdout",
     "output_type": "stream",
     "text": [
      "\n",
      "A =\n",
      "\n",
      "     1     2     3\n",
      "     4     5     6\n",
      "     7     8     9\n",
      "\n",
      "\n",
      "B =\n",
      "\n",
      "     1     3     5\n",
      "     7     9    11\n",
      "\n",
      "\n",
      "C =\n",
      "\n",
      "     2     4\n",
      "     6     8\n",
      "    10    12\n",
      "\n",
      "\n",
      "AB =\n",
      "\n",
      "     1     2     3\n",
      "     4     5     6\n",
      "     7     8     9\n",
      "     1     3     5\n",
      "     7     9    11\n",
      "\n",
      "\n",
      "AC =\n",
      "\n",
      "     1     2     3     2     4\n",
      "     4     5     6     6     8\n",
      "     7     8     9    10    12\n",
      "\n",
      "\n"
     ]
    }
   ],
   "source": [
    "A = [1 2 3; 4 5 6; 7 8 9]\n",
    "B = [1 3 5; 7 9 11]\n",
    "C = [2 4; 6 8; 10 12]\n",
    "AB = [A; B] % concatenate rows if have same number of columns\n",
    "AC = [A C] % concatenate columns if have same number of rows"
   ]
  },
  {
   "cell_type": "markdown",
   "metadata": {},
   "source": [
    "- Some build-in for matrices: \n",
    " - _inv(A)_: inverse\n",
    " - _A'_ transpose\n",
    " - _eye(a, b)_ $a\\times b$ identity matrix\n",
    " - _x = A\\b_ $A_{n\\times n}$ is solvable, $b_{n\\times 1}$ vector, then solves $x$ for $Ax = b$"
   ]
  },
  {
   "cell_type": "markdown",
   "metadata": {},
   "source": [
    "- For loop \n",
    "```\n",
    "for i = j:k:l #j:k:l is the sequence\n",
    "    statements\n",
    "end\n",
    "```\n",
    " - can use break to terminate\n",
    "- If statement\n",
    "```\n",
    "if expr \n",
    "    ...\n",
    "elseif expr\n",
    "    ...\n",
    "else\n",
    "    ...\n",
    "end\n",
    "```\n",
    " - expr includes ==, <, >, <=, >=, ~=, &, |, ~"
   ]
  },
  {
   "cell_type": "code",
   "execution_count": 37,
   "metadata": {},
   "outputs": [
    {
     "name": "stdout",
     "output_type": "stream",
     "text": [
      "\n",
      "A =\n",
      "\n",
      "     2    -1     0     0     0     0     0\n",
      "    -1     2    -1     0     0     0     0\n",
      "     0    -1     2    -1     0     0     0\n",
      "     0     0    -1     2    -1     0     0\n",
      "     0     0     0    -1     2    -1     0\n",
      "     0     0     0     0    -1     2    -1\n",
      "     0     0     0     0     0    -1     2\n",
      "\n",
      "\n"
     ]
    }
   ],
   "source": [
    "for i = 1:7\n",
    "    for j = 1:7\n",
    "        if i == j\n",
    "            A(i,j) = 2;\n",
    "        elseif i-j==-1 | i-j == 1\n",
    "            A(i,j) = -1;\n",
    "        else\n",
    "            A(i,j) = 0;\n",
    "        end\n",
    "    end\n",
    "end\n",
    "A"
   ]
  },
  {
   "cell_type": "markdown",
   "metadata": {},
   "source": [
    "- Functions and scripts can be stored in .m files.\n",
    "- Notice that one file can only have one function\n",
    "- To execute a function, do _filename(parameters)_\n",
    "- To execute a script, do _filename_"
   ]
  }
 ],
 "metadata": {
  "kernelspec": {
   "display_name": "Matlab",
   "language": "matlab",
   "name": "matlab"
  },
  "language_info": {
   "codemirror_mode": "octave",
   "file_extension": ".m",
   "help_links": [
    {
     "text": "MetaKernel Magics",
     "url": "https://github.com/calysto/metakernel/blob/master/metakernel/magics/README.md"
    }
   ],
   "mimetype": "text/x-octave",
   "name": "matlab",
   "version": "0.16.1"
  }
 },
 "nbformat": 4,
 "nbformat_minor": 2
}
