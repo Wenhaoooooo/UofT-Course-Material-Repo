{
 "cells": [
  {
   "cell_type": "code",
   "execution_count": 6,
   "metadata": {
    "ExecuteTime": {
     "end_time": "2019-04-13T19:38:52.471758Z",
     "start_time": "2019-04-13T19:38:52.452811Z"
    }
   },
   "outputs": [
    {
     "name": "stdout",
     "output_type": "stream",
     "text": [
      "My name is Ryan I am 14\n"
     ]
    }
   ],
   "source": [
    "def introduction(name,yearofbirth,currentyear):\n",
    "    Age=currentyear-yearofbirth\n",
    "    Age=str(Age)\n",
    "    Tim=\"My name is\"\n",
    "    Tim = Tim +\" \"+ name+\" \"\n",
    "    Tim=Tim+\"I am \"+Age\n",
    "    return print(Tim)\n",
    "introduction(\"Ryan\",2004,2018)"
   ]
  },
  {
   "cell_type": "code",
   "execution_count": null,
   "metadata": {},
   "outputs": [],
   "source": [
    "ryan8222933@gmail.com\n",
    "154919080@qq.com"
   ]
  }
 ],
 "metadata": {
  "kernelspec": {
   "display_name": "Python 3",
   "language": "python",
   "name": "python3"
  },
  "language_info": {
   "codemirror_mode": {
    "name": "ipython",
    "version": 3
   },
   "file_extension": ".py",
   "mimetype": "text/x-python",
   "name": "python",
   "nbconvert_exporter": "python",
   "pygments_lexer": "ipython3",
   "version": "3.6.8"
  }
 },
 "nbformat": 4,
 "nbformat_minor": 2
}
