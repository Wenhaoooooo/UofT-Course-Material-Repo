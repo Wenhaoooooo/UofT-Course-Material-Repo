{
 "cells": [
  {
   "cell_type": "markdown",
   "metadata": {},
   "source": [
    "## Case Study 7:\n",
    "\n",
    "__A__ alcohol use 1 = True, 2 = False  \n",
    "\n",
    "**M** marijuana use\n",
    "\n",
    "__C__ cigarette use"
   ]
  },
  {
   "cell_type": "code",
   "execution_count": 1,
   "metadata": {
    "ExecuteTime": {
     "end_time": "2019-03-26T19:14:11.185928Z",
     "start_time": "2019-03-26T19:14:10.926Z"
    },
    "scrolled": true
   },
   "outputs": [
    {
     "data": {
      "text/html": [
       "<table>\n",
       "<thead><tr><th scope=col>A</th><th scope=col>C</th><th scope=col>M</th><th scope=col>Y</th></tr></thead>\n",
       "<tbody>\n",
       "\t<tr><td>1  </td><td>1  </td><td>1  </td><td>911</td></tr>\n",
       "\t<tr><td>1  </td><td>1  </td><td>2  </td><td>538</td></tr>\n",
       "\t<tr><td>1  </td><td>2  </td><td>1  </td><td> 44</td></tr>\n",
       "\t<tr><td>1  </td><td>2  </td><td>2  </td><td>456</td></tr>\n",
       "\t<tr><td>2  </td><td>1  </td><td>1  </td><td>  3</td></tr>\n",
       "\t<tr><td>2  </td><td>1  </td><td>2  </td><td> 43</td></tr>\n",
       "\t<tr><td>2  </td><td>2  </td><td>1  </td><td>  2</td></tr>\n",
       "\t<tr><td>2  </td><td>2  </td><td>2  </td><td>279</td></tr>\n",
       "</tbody>\n",
       "</table>\n"
      ],
      "text/latex": [
       "\\begin{tabular}{llll}\n",
       " A & C & M & Y\\\\\n",
       "\\hline\n",
       "\t 1   & 1   & 1   & 911\\\\\n",
       "\t 1   & 1   & 2   & 538\\\\\n",
       "\t 1   & 2   & 1   &  44\\\\\n",
       "\t 1   & 2   & 2   & 456\\\\\n",
       "\t 2   & 1   & 1   &   3\\\\\n",
       "\t 2   & 1   & 2   &  43\\\\\n",
       "\t 2   & 2   & 1   &   2\\\\\n",
       "\t 2   & 2   & 2   & 279\\\\\n",
       "\\end{tabular}\n"
      ],
      "text/markdown": [
       "\n",
       "| A | C | M | Y |\n",
       "|---|---|---|---|\n",
       "| 1   | 1   | 1   | 911 |\n",
       "| 1   | 1   | 2   | 538 |\n",
       "| 1   | 2   | 1   |  44 |\n",
       "| 1   | 2   | 2   | 456 |\n",
       "| 2   | 1   | 1   |   3 |\n",
       "| 2   | 1   | 2   |  43 |\n",
       "| 2   | 2   | 1   |   2 |\n",
       "| 2   | 2   | 2   | 279 |\n",
       "\n"
      ],
      "text/plain": [
       "     A C M Y  \n",
       "[1,] 1 1 1 911\n",
       "[2,] 1 1 2 538\n",
       "[3,] 1 2 1  44\n",
       "[4,] 1 2 2 456\n",
       "[5,] 2 1 1   3\n",
       "[6,] 2 1 2  43\n",
       "[7,] 2 2 1   2\n",
       "[8,] 2 2 2 279"
      ]
     },
     "metadata": {},
     "output_type": "display_data"
    }
   ],
   "source": [
    "A=c(1,1,1,1,2,2,2,2)\n",
    "C=c(1,1,2,2,1,1,2,2)\n",
    "M=c(1,2,1,2,1,2,1,2)\n",
    "Y=c(911,538,44,456,3,43,2,279)\n",
    "A=as.factor(A)\n",
    "C=as.factor(C)\n",
    "M=as.factor(M)\n",
    "ACM=cbind(A,C,M, Y)\n",
    "ACM"
   ]
  },
  {
   "cell_type": "markdown",
   "metadata": {},
   "source": [
    "### Model 1. Complete Independence \n",
    "$P(ACM)=P(A)P(C)P(M)$ - the three factors are mutually independent\n",
    "\n",
    "$H_0: \\pi_{ijk} = \\pi_{i..}\\pi_{.j.}\\pi_{k..}$ for all $i,j,k$.   \n",
    "$H_a: \\pi_{ijk} \\neq \\pi_{i..}\\pi_{.j.}\\pi_{k..}$\n",
    "\n",
    "$\\log(\\mu_{ijk}) = \\beta_0+\\beta_1 \\mathbb{I}_C + \\beta_2 \\mathbb{I}_C + \\beta_3 \\mathbb{I}_M$\n",
    "\n",
    "MLE $$\\hat\\mu_{ijk}=n\\hat\\pi_{ijk} = n\\hat\\pi_{i..}\\hat\\pi_{.j.}\\hat\\pi_{..k}=\\frac{ny_{i..}y_{.j.}y_{..k}}{nnn}$$"
   ]
  },
  {
   "cell_type": "markdown",
   "metadata": {},
   "source": [
    "### Model 2. Block Independence \n",
    "$P(AC\\mid M)= P(AC)$ - Joint probability of alcohol and cigarette use is independent of marijuana use; Alcohol and cigarette use\n",
    "are associated. \n",
    "\n",
    "$H_0: \\pi_{ijk} = \\pi_{ij.}\\pi_{k..}$ for all $i,j,k$.   \n",
    "$H_a: \\pi_{ijk} \\neq \\pi_{ij.}\\pi_{k..}$\n",
    "\n",
    "$\\log(\\mu_{ijk}) = \\beta_0+\\beta_1 \\mathbb{I}_C + \\beta_2 \\mathbb{I}_C + \\beta_3 \\mathbb{I}_M+\\beta_4\\mathbb{I}_A\\mathbb{I}_C$\n",
    "\n",
    "MLE\n",
    "$$\\hat\\mu_{ijk}=n\\hat\\pi_{ijk} = n\\hat\\pi_{ij.}\\hat\\pi_{..k}=\\frac{ny_{ij.}y_{..k}}{nn}$$"
   ]
  },
  {
   "cell_type": "markdown",
   "metadata": {},
   "source": [
    "### Model 3. Partial Independence\n",
    "$P(AC\\mid M)=P(A\\mid M)P(C\\mid M)$. Alcohol and cigarette use are conditionally independent given marijuana use; Alcohol and marijuana use are associated, and cigarette and marijuana use are associated\n",
    "\n",
    "$H_0:\\pi_{ijk} = \\pi_{i.k}\\pi_{.jk}/\\pi_{..k}$  \n",
    "$H_a:\\pi_{ijk} \\neq \\pi_{i.k}\\pi_{.jk}/\\pi_{..k}$\n",
    "\n",
    "$\\log(\\mu_{ijk}) = \\beta_0+\\beta_1 \\mathbb{I}_C + \\beta_2 \\mathbb{I}_C + \\beta_3 \\mathbb{I}_M+\\beta_4\\mathbb{I}_A\\mathbb{I}_M+\\beta_5\\mathbb{I}_C\\mathbb{I}_M$\n",
    "\n",
    "MLE\n",
    "$$\\hat\\mu_{ijk}=n\\hat\\pi_{ijk} = n\\hat\\pi_{.jk}\\hat\\pi_{i.k} / \\hat\\pi_{..k}=y_{ijk}y_{i.k}/y_{..k}$$\n"
   ]
  },
  {
   "cell_type": "markdown",
   "metadata": {},
   "source": [
    "### Model 4. Uniform Association\n",
    "Association among all pairs\n",
    "\n",
    "$\\log(\\mu_{ijk}) = \\beta_0+\\beta_1 \\mathbb{I}_C + \\beta_2 \\mathbb{I}_C + \\beta_3 \\mathbb{I}_M+\\beta_4\\mathbb{I}_A\\mathbb{I}_M+\\beta_5\\mathbb{I}_C\\mathbb{I}_M + \\beta_6\\mathbb{I}_A\\mathbb{I}_C$"
   ]
  },
  {
   "cell_type": "markdown",
   "metadata": {},
   "source": [
    "### Saturated Model\n",
    "$\\log(\\mu_{ijk}) = \\beta_0+\\beta_1 \\mathbb{I}_C + \\beta_2 \\mathbb{I}_C + \\beta_3 \\mathbb{I}_M+\\beta_4\\mathbb{I}_A\\mathbb{I}_M+\\beta_5\\mathbb{I}_C\\mathbb{I}_M + \\beta_6\\mathbb{I}_A\\mathbb{I}_C + \\beta_7\\mathbb{I}_A\\mathbb{I}_C\\mathbb{I}_M$\n",
    "this always fits the data perfectly"
   ]
  }
 ],
 "metadata": {
  "kernelspec": {
   "display_name": "R",
   "language": "R",
   "name": "ir"
  },
  "language_info": {
   "codemirror_mode": "r",
   "file_extension": ".r",
   "mimetype": "text/x-r-source",
   "name": "R",
   "pygments_lexer": "r",
   "version": "3.5.2"
  },
  "toc": {
   "base_numbering": 1,
   "nav_menu": {},
   "number_sections": true,
   "sideBar": false,
   "skip_h1_title": false,
   "title_cell": "Table of Contents",
   "title_sidebar": "Contents",
   "toc_cell": false,
   "toc_position": {},
   "toc_section_display": true,
   "toc_window_display": false
  }
 },
 "nbformat": 4,
 "nbformat_minor": 2
}
