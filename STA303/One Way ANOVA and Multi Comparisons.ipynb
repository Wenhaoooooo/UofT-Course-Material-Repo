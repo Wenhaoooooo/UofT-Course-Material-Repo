{
 "cells": [
  {
   "cell_type": "markdown",
   "metadata": {},
   "source": [
    "#### Linear Regression Model \n",
    " - $Y_{N\\times 1}=X_{N\\times(p+1)}\\beta_{(p+1)\\times 1} + \\epsilon_{N\\times 1}$, response $Y$ continuous, explanatory $X$ categorical and/or continuous \n",
    " - $Y$ is linear in the $\\beta$'s i.e. no predictor is a linear function or combination of other predictors\n",
    " - $\\hat{\\beta}=(X'X)^{-1}X'Y$ Least square Estimate, need$rank(X'X)=rank(X)\\Rightarrow$ columns of $X$ must be linear independent\n",
    " - Null hypothesis $H_0: \\beta = \\vec{0}$. Assumptions\n",
    "  - Appropriate Linear Model\n",
    "  - Uncorrelated Errors\n",
    "  - $\\vec{\\epsilon}\\sim N(\\vec{0},\\sigma^2I)$. \n",
    " - Sum of Squares Decomposition \n",
    " $$SST=SSE+SSR\\\\\n",
    " \\sum_i^N(Y_i-\\bar{Y})^2 = \\sum_i^N (Y_i-\\hat{Y}_i)^2 + \\sum_i^N(\\hat{Y}_i - \\bar{Y})^2$$\n",
    " "
   ]
  },
  {
   "cell_type": "markdown",
   "metadata": {},
   "source": [
    "#### One-Way ANOVA\n",
    "- Need one factor (categorical variable) with at least 2 levels $(G\\geq 2)$\n",
    "- Aim: Compare $G$ group means\n",
    "    $$H_0:\\mu_1=\\mu_2=...=\\mu_G, H_a:\\exists i\\neq j. \\mu_i\\neq \\mu_j$$\n",
    "- Predictors are indicator variables that classify the observations one way (into $G$ groups)\n",
    " - special case of a general linear model\n",
    " - equivalent to GLM with one-way classification (one factor)\n",
    " - GLM uses $G-1$ dummy variables\n",
    "- ANOVA: compare means by analyzing variability"
   ]
  },
  {
   "cell_type": "markdown",
   "metadata": {},
   "source": [
    "#### One Way Expectations and Estimates\n",
    "\n",
    "$E(Y_i)=(\\beta_0 + \\beta_1,...,\\beta_0 +\\beta_{G-1}, \\beta_0)^T$ <br>\n",
    "$\\hat{Y}_i = (b_0+b_1,...,b_0 + b_{G-1}, b_0)^T$ <br>\n",
    "$\\hat{\\beta} = (b_0,...,b_{G-1})^T = (\\bar{y}_G, \\bar{y}_1-\\bar{y}_G,...,\\bar{y}_{G-1}-\\bar{y}_G)^T$\n",
    "\n",
    "Then, the null hypothesis is $H_0: \\beta_i=\\mu_i-\\mu_0 = 0\\Rightarrow$ the equal mean of $i$th group and the compared group\n",
    "\n",
    "In this case, for $SST$, $N=\\sum_1^G n_i,\\hat{Y}_i=$ mean of observations for group $g$ from which the $i$th observation belongs, $\\bar{Y}=\\frac{\\sum_{g=1}^{G}\\sum_{j=1}^{n_g} y_{gj}}{N}$ is the grand mean \n",
    "\n",
    "$$SSReg = \\sum_{g=1}^G n_g(\\bar{Y}_g-\\bar{Y})^2 \\\\\n",
    "RSS = \\sum_{g=1}^G \\sum_{g} (Y_i-\\bar{Y}_g)^2$$"
   ]
  },
  {
   "cell_type": "markdown",
   "metadata": {},
   "source": [
    "#### Case Study"
   ]
  },
  {
   "cell_type": "code",
   "execution_count": 15,
   "metadata": {},
   "outputs": [
    {
     "ename": "ERROR",
     "evalue": "Error in eval(expr, envir, enclos): 找不到对象'jury.head'\n",
     "output_type": "error",
     "traceback": [
      "Error in eval(expr, envir, enclos): 找不到对象'jury.head'\nTraceback:\n"
     ]
    }
   ],
   "source": [
    "# import data\n",
    "library(Sleuth2)\n",
    "jury = case0502\n",
    "percent = case0502$Percent\n",
    "judge = case0502$Judge\n",
    "jury.head()"
   ]
  },
  {
   "cell_type": "code",
   "execution_count": 3,
   "metadata": {},
   "outputs": [
    {
     "data": {
      "text/plain": [
       "judge\n",
       "Spock's       A       B       C       D       E       F \n",
       "      9       5       6       9       2       6       9 "
      ]
     },
     "metadata": {},
     "output_type": "display_data"
    }
   ],
   "source": [
    "table(judge)"
   ]
  },
  {
   "cell_type": "code",
   "execution_count": 6,
   "metadata": {},
   "outputs": [
    {
     "data": {
      "text/html": [
       "<dl class=dl-horizontal>\n",
       "\t<dt>Spock's</dt>\n",
       "\t\t<dd>14.6222224235535</dd>\n",
       "\t<dt>A</dt>\n",
       "\t\t<dd>34.1199996948242</dd>\n",
       "\t<dt>B</dt>\n",
       "\t\t<dd>33.6166664759318</dd>\n",
       "\t<dt>C</dt>\n",
       "\t\t<dd>29.0999997456868</dd>\n",
       "\t<dt>D</dt>\n",
       "\t\t<dd>27</dd>\n",
       "\t<dt>E</dt>\n",
       "\t\t<dd>26.9666668574015</dd>\n",
       "\t<dt>F</dt>\n",
       "\t\t<dd>26.800000084771</dd>\n",
       "</dl>\n"
      ],
      "text/latex": [
       "\\begin{description*}\n",
       "\\item[Spock's] 14.6222224235535\n",
       "\\item[A] 34.1199996948242\n",
       "\\item[B] 33.6166664759318\n",
       "\\item[C] 29.0999997456868\n",
       "\\item[D] 27\n",
       "\\item[E] 26.9666668574015\n",
       "\\item[F] 26.800000084771\n",
       "\\end{description*}\n"
      ],
      "text/markdown": [
       "Spock's\n",
       ":   14.6222224235535A\n",
       ":   34.1199996948242B\n",
       ":   33.6166664759318C\n",
       ":   29.0999997456868D\n",
       ":   27E\n",
       ":   26.9666668574015F\n",
       ":   26.800000084771\n",
       "\n"
      ],
      "text/plain": [
       " Spock's        A        B        C        D        E        F \n",
       "14.62222 34.12000 33.61667 29.10000 27.00000 26.96667 26.80000 "
      ]
     },
     "metadata": {},
     "output_type": "display_data"
    }
   ],
   "source": [
    "with(jury, tapply(percent, judge, mean))"
   ]
  },
  {
   "cell_type": "code",
   "execution_count": 13,
   "metadata": {},
   "outputs": [
    {
     "data": {
      "image/png": "[encoded data removed]",
      "text/plain": [
       "plot without title"
      ]
     },
     "metadata": {},
     "output_type": "display_data"
    }
   ],
   "source": [
    "others <- subset(jury, judge!=\"Spock's\")\n",
    "boxplot(percent~judge, data=others)"
   ]
  }
 ],
 "metadata": {
  "kernelspec": {
   "display_name": "R",
   "language": "R",
   "name": "ir"
  },
  "language_info": {
   "codemirror_mode": "r",
   "file_extension": ".r",
   "mimetype": "text/x-r-source",
   "name": "R",
   "pygments_lexer": "r",
   "version": "3.5.2"
  }
 },
 "nbformat": 4,
 "nbformat_minor": 2
}
