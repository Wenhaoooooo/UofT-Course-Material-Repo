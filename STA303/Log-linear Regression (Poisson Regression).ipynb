{
 "cells": [
  {
   "cell_type": "markdown",
   "metadata": {},
   "source": [
    "#### Case Study: Mating Success of Elephants\n",
    "Predictor: Age: age at beginning in years (range from 27-52)  \n",
    "Outcome: Matings: #successful matings\n",
    "\n",
    "Question: \n",
    "- What's the relationship between mating success and age?\n",
    "- Do males have diminished success after reaching some optimal age?"
   ]
  },
  {
   "cell_type": "code",
   "execution_count": 6,
   "metadata": {},
   "outputs": [],
   "source": [
    "# load data\n",
    "library(Sleuth3)\n",
    "elmasu = case2201\n",
    "Age = elmasu$Age\n",
    "Matings = elmasu$Matings"
   ]
  },
  {
   "cell_type": "code",
   "execution_count": 17,
   "metadata": {
    "scrolled": false
   },
   "outputs": [
    {
     "data": {
      "image/png": "[encoded data removed]",
      "text/plain": [
       "plot without title"
      ]
     },
     "metadata": {},
     "output_type": "display_data"
    }
   ],
   "source": [
    "plot(Age, Matings)"
   ]
  },
  {
   "cell_type": "markdown",
   "metadata": {},
   "source": [
    "**Why not Linear Regression**\n",
    "- outcome is counts and small numbers\n",
    "- won't have a normal distribution conditional on age"
   ]
  },
  {
   "cell_type": "markdown",
   "metadata": {},
   "source": [
    "#### Poisson distribution\n",
    "Useful for counts of rare events\n",
    "\n",
    "Poisson link function: $g(\\mu)=log(\\mu)$, also called a log-linear model\n",
    "\n",
    "Interpretation of $\\beta$'s: Increase $x_j$ by one unit, and holding other predictors constant, $\\mu_j$ changes by a factor of $e^{\\beta_j}$\n",
    "\n",
    "Then, $\\mu = e^{X\\beta}$\n",
    "\n",
    "Estimation method: MLE by IRLS algorithm\n",
    "\n",
    "Inference: Wald procedures and likelihood ratio test (as in logistic regression)"
   ]
  },
  {
   "cell_type": "markdown",
   "metadata": {},
   "source": [
    "**Checking Model Adequacy**\n",
    "(similar to binomial logistic regression)\n",
    "- Linear in $\\beta$'s: Plot $\\log(y_i)$ vs. $x$'s to see if linear relationship is appropriate. Jitter if many $y_i = 0$ (by using $\\log(y_i+k),k$ is a small positive value)\n",
    "- Outliers: Deviance and Pearson residuals \n",
    "- Correct form: Wald $(\\hat\\beta_j/se(\\hat\\beta_j)^2\\sim \\chi^2_{p+1})$ and LRT tests\n",
    "- Adequate: Deviance GOF test\n",
    "\n",
    "Common problem: $var(Y_i) > E(Y_i)$  \n",
    "Solution: add an extra dispersion\n"
   ]
  },
  {
   "cell_type": "markdown",
   "metadata": {},
   "source": [
    "**Model log likelihood**\n",
    "$$\\mathcal{L} = \\prod_1^n P(Y_i=y_i)=\\prod_1^n \\frac{e^{-\\mu_i}\\mu_i^{y_i}}{y_i!}$$\n",
    "\n",
    "$$\\log\\mathcal{L}=\\sum_1^n (-\\mu_i + y_i\\log(\\mu_i)-\\log(y_i!))$$\n",
    "\n",
    "Since $\\log(y_i)$ is a constant for $\\mu_i$, we can drop it when maximizing likelihood.\n"
   ]
  },
  {
   "cell_type": "code",
   "execution_count": 37,
   "metadata": {},
   "outputs": [
    {
     "data": {
      "text/plain": [
       "\n",
       "Call:\n",
       "glm(formula = Matings ~ Age, family = poisson)\n",
       "\n",
       "Deviance Residuals: \n",
       "     Min        1Q    Median        3Q       Max  \n",
       "-2.80798  -0.86137  -0.08629   0.60087   2.17777  \n",
       "\n",
       "Coefficients:\n",
       "            Estimate Std. Error z value Pr(>|z|)    \n",
       "(Intercept) -1.58201    0.54462  -2.905  0.00368 ** \n",
       "Age          0.06869    0.01375   4.997 5.81e-07 ***\n",
       "---\n",
       "Signif. codes:  0 '***' 0.001 '**' 0.01 '*' 0.05 '.' 0.1 ' ' 1\n",
       "\n",
       "(Dispersion parameter for poisson family taken to be 1)\n",
       "\n",
       "    Null deviance: 75.372  on 40  degrees of freedom\n",
       "Residual deviance: 51.012  on 39  degrees of freedom\n",
       "AIC: 156.46\n",
       "\n",
       "Number of Fisher Scoring iterations: 5\n"
      ]
     },
     "metadata": {},
     "output_type": "display_data"
    }
   ],
   "source": [
    "fitllm = glm(Matings~Age, family=poisson)\n",
    "summary(fit)"
   ]
  },
  {
   "cell_type": "code",
   "execution_count": 38,
   "metadata": {},
   "outputs": [
    {
     "data": {
      "image/png": "[encoded data removed]",
      "text/plain": [
       "plot without title"
      ]
     },
     "metadata": {},
     "output_type": "display_data"
    }
   ],
   "source": [
    "plot(Age, log(Matings + 1))\n",
    "abline(fitllm$coefficients[1], fitllm$coefficients[2])"
   ]
  },
  {
   "cell_type": "code",
   "execution_count": 39,
   "metadata": {},
   "outputs": [
    {
     "data": {
      "text/plain": [
       "\n",
       "Call:\n",
       "glm(formula = Matings ~ Age + I(Age^2), family = poisson)\n",
       "\n",
       "Deviance Residuals: \n",
       "    Min       1Q   Median       3Q      Max  \n",
       "-2.8470  -0.8848  -0.1122   0.6580   2.1134  \n",
       "\n",
       "Coefficients:\n",
       "              Estimate Std. Error z value Pr(>|z|)\n",
       "(Intercept) -2.8574060  3.0356383  -0.941    0.347\n",
       "Age          0.1359544  0.1580095   0.860    0.390\n",
       "I(Age^2)    -0.0008595  0.0020124  -0.427    0.669\n",
       "\n",
       "(Dispersion parameter for poisson family taken to be 1)\n",
       "\n",
       "    Null deviance: 75.372  on 40  degrees of freedom\n",
       "Residual deviance: 50.826  on 38  degrees of freedom\n",
       "AIC: 158.27\n",
       "\n",
       "Number of Fisher Scoring iterations: 5\n"
      ]
     },
     "metadata": {},
     "output_type": "display_data"
    }
   ],
   "source": [
    "fitllm2 = glm(Matings~Age+I(Age^2), family=poisson)\n",
    "summary(fitllm2)"
   ]
  },
  {
   "cell_type": "code",
   "execution_count": 41,
   "metadata": {},
   "outputs": [
    {
     "name": "stdout",
     "output_type": "stream",
     "text": [
      "[1] 156.4578\n",
      "[1] 159.8849\n",
      "[1] 158.2723\n",
      "[1] 163.4131\n"
     ]
    }
   ],
   "source": [
    "print(AIC(fitllm))\n",
    "print(BIC(fitllm))\n",
    "print(AIC(fitllm2))\n",
    "print(BIC(fitllm2))"
   ]
  }
 ],
 "metadata": {
  "hide_input": false,
  "kernelspec": {
   "display_name": "R",
   "language": "R",
   "name": "ir"
  },
  "language_info": {
   "codemirror_mode": "r",
   "file_extension": ".r",
   "mimetype": "text/x-r-source",
   "name": "R",
   "pygments_lexer": "r",
   "version": "3.5.2"
  }
 },
 "nbformat": 4,
 "nbformat_minor": 2
}
