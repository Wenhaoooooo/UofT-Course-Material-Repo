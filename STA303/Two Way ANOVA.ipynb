{
 "cells": [
  {
   "cell_type": "markdown",
   "metadata": {},
   "source": [
    "## Two Way ANOVA\n",
    "- Extension of One-way ANOVA, a special case of a GLM.\n",
    "- Two factors, each with $\\geq 2$ levels. \n",
    "- Uses a maximum of $(G_1-1) + (G_2 - 1) +(G_1-1)(G_2 - 1)$ (individual + interactions)indicator variables"
   ]
  },
  {
   "cell_type": "markdown",
   "metadata": {},
   "source": [
    "_**Two types of factors**_<br>\n",
    " - FIXED effect: data has been gathered from all the levels of the factor that are of interest\n",
    " - Random effect: interest is in all possible levels of factor, but only a random sample of levels is included in the data. "
   ]
  },
  {
   "cell_type": "markdown",
   "metadata": {},
   "source": [
    "#### Case Study The Pygmalion Effect"
   ]
  },
  {
   "cell_type": "code",
   "execution_count": 12,
   "metadata": {},
   "outputs": [
    {
     "data": {
      "text/html": [
       "<table>\n",
       "<thead><tr><th scope=col>Company</th><th scope=col>Treat</th><th scope=col>Score</th></tr></thead>\n",
       "<tbody>\n",
       "\t<tr><td>C1       </td><td>Pygmalion</td><td>80.0     </td></tr>\n",
       "\t<tr><td>C1       </td><td>Control  </td><td>63.2     </td></tr>\n",
       "\t<tr><td>C1       </td><td>Control  </td><td>69.2     </td></tr>\n",
       "\t<tr><td>C2       </td><td>Pygmalion</td><td>83.9     </td></tr>\n",
       "\t<tr><td>C2       </td><td>Control  </td><td>63.1     </td></tr>\n",
       "\t<tr><td>C2       </td><td>Control  </td><td>81.5     </td></tr>\n",
       "</tbody>\n",
       "</table>\n"
      ],
      "text/latex": [
       "\\begin{tabular}{r|lll}\n",
       " Company & Treat & Score\\\\\n",
       "\\hline\n",
       "\t C1        & Pygmalion & 80.0     \\\\\n",
       "\t C1        & Control   & 63.2     \\\\\n",
       "\t C1        & Control   & 69.2     \\\\\n",
       "\t C2        & Pygmalion & 83.9     \\\\\n",
       "\t C2        & Control   & 63.1     \\\\\n",
       "\t C2        & Control   & 81.5     \\\\\n",
       "\\end{tabular}\n"
      ],
      "text/markdown": [
       "\n",
       "| Company | Treat | Score |\n",
       "|---|---|---|\n",
       "| C1        | Pygmalion | 80.0      |\n",
       "| C1        | Control   | 63.2      |\n",
       "| C1        | Control   | 69.2      |\n",
       "| C2        | Pygmalion | 83.9      |\n",
       "| C2        | Control   | 63.1      |\n",
       "| C2        | Control   | 81.5      |\n",
       "\n"
      ],
      "text/plain": [
       "  Company Treat     Score\n",
       "1 C1      Pygmalion 80.0 \n",
       "2 C1      Control   63.2 \n",
       "3 C1      Control   69.2 \n",
       "4 C2      Pygmalion 83.9 \n",
       "5 C2      Control   63.1 \n",
       "6 C2      Control   81.5 "
      ]
     },
     "metadata": {},
     "output_type": "display_data"
    }
   ],
   "source": [
    "library(Sleuth2)\n",
    "data = case1302\n",
    "head(data)"
   ]
  },
  {
   "cell_type": "markdown",
   "metadata": {},
   "source": [
    " - Response: score on a test \n",
    " - Factors: \n",
    "  1. Company: 10 levels (C1,...,C10)\n",
    "  2. Treatment: 2 levels (Pygmalion, Control)\n",
    " - Aim: investigate the interaction between Company and Treatment\n",
    " - Method: Fit a Two-Way ANOVA"
   ]
  },
  {
   "cell_type": "markdown",
   "metadata": {},
   "source": [
    "_**Variables**_\n",
    "- $Y_i$ score for $i$th platoon\n",
    "- Explanatory: $9(\\mathbb{I}_{C_m, i})+1(\\mathbb{I}_{P_n,i})+9(Interaction)$ <br>\n",
    "For each indicter: $\\mathbb{I_{C_m,i}}=I$(ith platoon is from Company m), $\\mathbb{I_{P_n,i}}=I$(ith platoon is 'Pygmalion')"
   ]
  }
 ],
 "metadata": {
  "kernelspec": {
   "display_name": "R",
   "language": "R",
   "name": "ir"
  },
  "language_info": {
   "codemirror_mode": "r",
   "file_extension": ".r",
   "mimetype": "text/x-r-source",
   "name": "R",
   "pygments_lexer": "r",
   "version": "3.5.2"
  }
 },
 "nbformat": 4,
 "nbformat_minor": 2
}
