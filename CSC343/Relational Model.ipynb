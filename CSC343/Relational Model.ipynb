{
 "cells": [
  {
   "cell_type": "markdown",
   "metadata": {},
   "source": [
    "#### Relation\n",
    "Based on the concept of a relation or table.<br>\n",
    "A mathematical relation is a subset of a Cartesian product\n",
    "\n",
    "- **Schema** definition of the structure of the relation, name and constraint\n",
    "  - Notation Example: Team have name, home field, coach, then the schema is $Team(Name, Home Field,Coach)$\n",
    "- **Instance** particular data in the relation\n",
    "- **Conventional databases** stores the current version of the data, **temporal databases** record the history\n",
    "- Terminology: relation = table, attribute = column, tuple = row, arity = number of attributes, cardinality = number of rows\n",
    "- Relations are sets (no duplication, order does not matter), while most commercial DBMS uses multi-sets (bag) rather than sets"
   ]
  },
  {
   "cell_type": "markdown",
   "metadata": {},
   "source": [
    "#### Constraint\n",
    "- Example: $\\forall (t1,t2). t1.name\\neq t2.name \\vee t1.homefield \\neq t2.homefield$\n",
    "- Solution: set {home, homefield} as a **superkey**\n",
    "- **Superkey** a set of >=1 attributes whose combined values are unique\n",
    "- Commonly, all database relations must have a defined super key, otherwise assign all attributes as the super key\n",
    "- We want the minimal set of attributes as the superkey\n",
    "- **Primary Key** if we choose one attribute to be the key, then in DBMS we can define it to the be primary key"
   ]
  },
  {
   "cell_type": "markdown",
   "metadata": {},
   "source": [
    "#### Reference\n",
    "- foreign key"
   ]
  }
 ],
 "metadata": {
  "kernelspec": {
   "display_name": "Python 3",
   "language": "python",
   "name": "python3"
  },
  "language_info": {
   "codemirror_mode": {
    "name": "ipython",
    "version": 3
   },
   "file_extension": ".py",
   "mimetype": "text/x-python",
   "name": "python",
   "nbconvert_exporter": "python",
   "pygments_lexer": "ipython3",
   "version": "3.7.1"
  }
 },
 "nbformat": 4,
 "nbformat_minor": 2
}
