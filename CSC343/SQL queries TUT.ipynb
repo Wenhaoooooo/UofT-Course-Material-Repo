{
 "cells": [
  {
   "cell_type": "markdown",
   "metadata": {},
   "source": [
    "Groupby-having.pdf"
   ]
  },
  {
   "cell_type": "markdown",
   "metadata": {},
   "source": [
    "## Schema\n",
    "Student(**sID**, sur, first, campus, email, cgpa)\n",
    "\n",
    "Course (**dept, cNum**, name, br)\n",
    "\n",
    "Offering(**oID**, dept, cNum, term, instructor)\n",
    "\n",
    "Took (**sID, oID**, grade)\n",
    "\n",
    "Offering[dept, cNum] $\\subseteq$ Course[dept, cNum]\n",
    "\n",
    "Took[sID]$\\subseteq$ Student[sID]\n",
    "\n",
    "Took[oID]$\\subseteq$ Offering[oID]"
   ]
  },
  {
   "cell_type": "markdown",
   "metadata": {},
   "source": [
    "1. Find the average, min, max grade for each offerings.\n",
    "```SQL\n",
    "SELECT ave(grade), min(grade), max(grade)\n",
    "FROM Took\n",
    "GROUP BY oID\n",
    "```"
   ]
  },
  {
   "cell_type": "markdown",
   "metadata": {},
   "source": [
    "2. \n",
    "<table>\n",
    "    <tr>\n",
    "        <td>Invalid</td><td>Valid</td>\n",
    "    </tr>\n",
    "    <tr>\n",
    "        <td>Invalid</td><td>Valid</td>\n",
    "    </tr>\n",
    "</table>\n",
    "        \n",
    "    \n",
    "   "
   ]
  },
  {
   "cell_type": "markdown",
   "metadata": {},
   "source": [
    "3. find the sid and min grade of each student with an average over 80\n",
    "\n",
    "```SQL\n",
    "SELECT sid, min(grade)\n",
    "FROM Took\n",
    "GROUP BY sID\n",
    "HAVING avg(grade) > 80\n",
    "```"
   ]
  },
  {
   "cell_type": "markdown",
   "metadata": {},
   "source": [
    "4. find the sID, sur, and ave grade of each student, but keep the data only for those students who have taken at least 10 courses.\n",
    "\n",
    "```SQL\n",
    "SELECT sID, sur, ave(grade)\n",
    "FROM Student, Took\n",
    "WHERE Student.sID = Took.sID\n",
    "GROUP BY Student.sID\n",
    "HAVING count(Took) >= 10\n",
    "```"
   ]
  },
  {
   "cell_type": "markdown",
   "metadata": {},
   "source": [
    "5. For each student who has passed at least 10 courses, report their sid and average grade on the course that they passed. \n",
    "\n",
    "```SQL\n",
    "SELECT sid, ave(grade)\n",
    "FROM Took\n",
    "WHERE grade >= 50 \n",
    "GROUP BY sid\n",
    "HAVING count(*) >= 10 \n",
    "```"
   ]
  },
  {
   "cell_type": "markdown",
   "metadata": {},
   "source": [
    "6. For each student who has passed at least 10 courses, report their sID and average grade on all of their courses.\n",
    "\n",
    "```SQL\n",
    "CREATE VIEW Seniors AS\n",
    "SELECT sID\n",
    "FROM Took\n",
    "WHERE grade >= 50\n",
    "GROUP BY sID\n",
    "HAVING count(*) >= 10\n",
    "\n",
    "SELECT ave(grade)\n",
    "FROM Took, Seniors\n",
    "WHERE Took.sID = Seniors.sID\n",
    "GROUP BY Seniors.sID\n",
    "```"
   ]
  },
  {
   "cell_type": "markdown",
   "metadata": {},
   "source": [
    "7. <table>\n",
    "    <tr>\n",
    "        <td>Valid</td><td>Valid</td>\n",
    "    </tr>\n",
    "    <tr>\n",
    "        <td>Invalid</td><td>Invalid</td>\n",
    "    </tr>\n",
    "</table>\n",
    "        \n",
    "    "
   ]
  },
  {
   "cell_type": "markdown",
   "metadata": {},
   "source": [
    "Joins.pdf"
   ]
  },
  {
   "cell_type": "markdown",
   "metadata": {},
   "source": [
    "1. \n",
    "(a) Invalid <br>\n",
    "(b) "
   ]
  },
  {
   "cell_type": "markdown",
   "metadata": {},
   "source": [
    "Subqueries.pdf"
   ]
  },
  {
   "cell_type": "markdown",
   "metadata": {},
   "source": [
    "7. \n",
    "```SQL\n",
    "CREATE VIEW Counts AS\n",
    "SELECT dept, cNum, instructor, count(oID)\n",
    "FROM Offering\n",
    "GROUP BY dept, cNum, instructor\n",
    "```"
   ]
  }
 ],
 "metadata": {
  "hide_input": false,
  "kernelspec": {
   "display_name": "Python 3",
   "language": "python",
   "name": "python3"
  },
  "language_info": {
   "codemirror_mode": {
    "name": "ipython",
    "version": 3
   },
   "file_extension": ".py",
   "mimetype": "text/x-python",
   "name": "python",
   "nbconvert_exporter": "python",
   "pygments_lexer": "ipython3",
   "version": "3.6.8"
  }
 },
 "nbformat": 4,
 "nbformat_minor": 2
}
