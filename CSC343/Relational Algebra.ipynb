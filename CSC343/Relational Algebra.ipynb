{
 "cells": [
  {
   "cell_type": "markdown",
   "metadata": {},
   "source": [
    "\n",
    "\n",
    "**Example schema** will be used for examples \n",
    " - Relations: Movies(<u>mID</u>, title, director, year, length); Artists(<u>aID</u>, aName, nationality); Roles(<u>mID, aID, character</u>)\n",
    " - Foreign key constraints: Roles[mID]$\\subseteq$ Movies[mID]; Roles[aID]$\\subseteq$ Artists[aID]\n",
    "\n",
    "#### Relational algebra \n",
    " - The value of any expression is a relation\n",
    " - Assumptions\n",
    "     - Relations as sets (without duplicated rows)\n",
    "     - Every cell has a value\n",
    " - Operands: tables\n",
    " - Operator  examples:\n",
    "   - Choose only the rows wanted\n",
    "   - Choose only the columns wanted\n",
    "   - combine tables\n"
   ]
  },
  {
   "cell_type": "markdown",
   "metadata": {},
   "source": [
    "**Select Rows** $\\sigma_c(R)$: $R$ table, $c$ boolean expression\n",
    "  - The result is a relation with the same schema but with only the tuples satisfy $c$\n",
    "  - Select all British actors  $\\sigma_{\\text{nationality = 'British'}}(Actors)$ \n",
    "  - Select all movies from 1970s $\\sigma_{1970\\leq year\\leq 1979}(Movies)$\n"
   ]
  },
  {
   "cell_type": "markdown",
   "metadata": {},
   "source": [
    "**Project** $\\Pi_c(R)$ slice vertically\n",
    "- onto fewer attributes can remove key that makes duplicates possible, whenever duplicates happens, only one copy of each is kept\n",
    "  \n",
    "- To perform multiple query together Example: find the names of all directors of movies from the 1970s $\\pi_{director}(\\sigma_{1970 <year<=1979}(Movies))$\n"
   ]
  },
  {
   "cell_type": "markdown",
   "metadata": {},
   "source": [
    "**Cartesian Product** $R_1\\times R_2$ map two relations to a new relation with every combination of a tuple from $R_1$ concatenated to a tuple from $R_2$\n",
    "  - Resulted schema is every attribute from $R_1$ followed by $R_2$ in order\n",
    "  - The resulted relation have $R_1.cardinality|\\times R_2.cardinality$ tuples"
   ]
  },
  {
   "cell_type": "markdown",
   "metadata": {},
   "source": [
    "**Natural join** $R_1\\bowtie R_2$ take the Cartesian product and select rows with the same attribute and value  that are in both relation to ensure equality on attributes, then project to remove duplicate attributes\n",
    " - Natural join is commutative and associative"
   ]
  },
  {
   "cell_type": "markdown",
   "metadata": {},
   "source": [
    "**Theta Join** $R_1\\bowtie_{c} R_2:= \\sigma_c{R\\times S}$"
   ]
  },
  {
   "cell_type": "markdown",
   "metadata": {},
   "source": [
    "**Assignment** $R:= Expression$ or $R(A_1,...,A_n):=Expression$, the second way allows to rename all the attributes\n",
    " - $R$ must be temporary and not one of the relations in the schema, it should not be updated"
   ]
  },
  {
   "cell_type": "markdown",
   "metadata": {},
   "source": [
    "**Rename** $\\rho_{R_1}(R_2)$ or $\\rho_{R_1(A_1,...,A_n)}(R_2)$ renames the relation. Note that $R_1:=\\rho_{R_1(A_1,...,A_n)}(R_2)$ is equivalent to $R_1(A_1,...,A_n):=R_2$"
   ]
  },
  {
   "cell_type": "markdown",
   "metadata": {},
   "source": [
    "**Division** $R/S:=$ the largest relation $Q$ s.t. $Q\\times S\\subseteq R$. the operation will return a relation will all the attributes in $R$ that's not in $S$ and all tuples in $R$ that match every tuple in $S$"
   ]
  }
 ],
 "metadata": {
  "kernelspec": {
   "display_name": "Python 3",
   "language": "python",
   "name": "python3"
  },
  "language_info": {
   "codemirror_mode": {
    "name": "ipython",
    "version": 3
   },
   "file_extension": ".py",
   "mimetype": "text/x-python",
   "name": "python",
   "nbconvert_exporter": "python",
   "pygments_lexer": "ipython3",
   "version": "3.6.7"
  }
 },
 "nbformat": 4,
 "nbformat_minor": 2
}
