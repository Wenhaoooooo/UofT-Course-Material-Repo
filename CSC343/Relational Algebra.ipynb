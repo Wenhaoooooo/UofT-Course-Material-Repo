{
 "cells": [
  {
   "cell_type": "markdown",
   "metadata": {},
   "source": [
    "\n",
    "\n",
    "**Example schema** will be used for examples \n",
    " - Relations: Movies(<u>mID</u>, title, director, year, length); Artists(<u>aID</u>, aName, nationality); Roles(<u>mID, aID, character</u>)\n",
    " - Foreign key constraints: Roles[mID]$\\subseteq$ Movies[mID]; Roles[aID]$\\subseteq$ Artists[aID]\n",
    "\n",
    "#### Relational algebra \n",
    " - The value of any expression is a relation\n",
    " - Assumptions\n",
    "     - Relations as sets (without duplicated rows)\n",
    "     - Every cell has a value\n",
    " - Operands: tables\n",
    " - Operator  examples:\n",
    "   - Choose only the rows wanted\n",
    "   - Choose only the columns wanted\n",
    "   - combine tables\n",
    " - **Select Rows** $\\sigma_c(R)$: $R$ table, $c$ boolean expression\n",
    "  - The result is a relation with the same schema but with only the tuples satisfy $c$\n",
    "  - Select all British actors  $\\sigma_{\\text{nationality = 'British'}}(Actors)$ \n",
    "  - Select all movies from 1970s $\\sigma_{1970\\leq year\\leq 1979}(Movies)$\n",
    " - **Project** $\\pi_c(R)$ slice vertically\n",
    "  - onto fewer attributes can remove key that makes duplicates possible, whenever duplicates happens, only one copy of each is kept"
   ]
  }
 ],
 "metadata": {
  "kernelspec": {
   "display_name": "Python 3",
   "language": "python",
   "name": "python3"
  },
  "language_info": {
   "codemirror_mode": {
    "name": "ipython",
    "version": 3
   },
   "file_extension": ".py",
   "mimetype": "text/x-python",
   "name": "python",
   "nbconvert_exporter": "python",
   "pygments_lexer": "ipython3",
   "version": "3.7.1"
  }
 },
 "nbformat": 4,
 "nbformat_minor": 2
}
