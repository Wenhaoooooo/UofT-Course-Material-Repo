{
 "cells": [
  {
   "cell_type": "markdown",
   "metadata": {},
   "source": [
    "### Basic Query "
   ]
  },
  {
   "cell_type": "markdown",
   "metadata": {},
   "source": [
    "Any query need SELECT FROM WHERE <br> $\\Pi_{column}$($\\sigma_{condition} Relation$)\n",
    "```SQL\n",
    "SELECT column names\n",
    "FROM Relation\n",
    "WHERE condition;\n",
    "```\n",
    "With Multiple relationsA $\\times $ B\n",
    "```SQL\n",
    "From A, B\n",
    "```\n",
    "\n"
   ]
  },
  {
   "cell_type": "markdown",
   "metadata": {},
   "source": [
    "Temporarily renaming\n",
    "```SQL\n",
    "SELECT e.name, d.name\n",
    "FROM Employee e, department d\n",
    "WHERE d.name = 'marketing' AND e.name = 'Horton';\n",
    "```\n",
    "\n",
    "Self joins requires renaming\n",
    "```SQL\n",
    "SELECT e1.name, e2.name\n",
    "FROM Employee e1, Employee e2\n",
    "WHERE e1.salary < e2.salary;\n",
    "```\n",
    "\n",
    "\\* in SELECT means all attributes of this relation\n",
    "```SQL\n",
    "SELECT *\n",
    "```\n",
    "\n",
    "Rename attributes \n",
    "```SQL\n",
    "SELECT name AS new_name\n",
    "```\n"
   ]
  },
  {
   "cell_type": "markdown",
   "metadata": {},
   "source": [
    "Conditions allowed, note != is <> \n",
    "```SQL\n",
    "| = | <> | < | > | <= | >= |\n",
    "AND | OR | NOT\n",
    "```"
   ]
  },
  {
   "cell_type": "markdown",
   "metadata": {},
   "source": [
    "Put tuples in order, add this as the final clause, default in ascending order, add DESC to force descending\n",
    "```SQL\n",
    "ORDER BY <<attribute list>> ;\n",
    "ORDER BY <<attribute list>> [DESC];\n",
    "```\n",
    "The attribute list can include expressions:\n",
    "```SQL\n",
    "ORDER BY attribute_a + attribute_b;\n",
    "```"
   ]
  },
  {
   "cell_type": "markdown",
   "metadata": {},
   "source": [
    "Keywords and identifiers are not case-sensitive and white space are ignored\n"
   ]
  },
  {
   "cell_type": "markdown",
   "metadata": {},
   "source": [
    "Expressions can be used in SELECT clauses, <br>\n",
    "operands: attributes, constants\n",
    "operators: arithmetic ops, string ops\n",
    "```SQL\n",
    "SELECT, sid, grade+10 as adjusted\n",
    "FROM Took;\n",
    "\n",
    "SELECT dept|| cNum\n",
    "From Course;\n",
    "```\n",
    "\n",
    "Expressions that are a constant\n",
    "```SQL\n",
    "SELECT, dept, cNum, 'satisfies' AS breadthRequirement\n",
    "FROM Course\n",
    "WHERE breadth;"
   ]
  },
  {
   "cell_type": "markdown",
   "metadata": {},
   "source": [
    "Pattern operators\n",
    "```SQL\n",
    "<<attribute>> LIKE <<pattern>>\n",
    "<<attribute>> NOT LIKE <<pattern>>\n",
    "```\n",
    "`%` any string <br>\n",
    "`_` any string char\n",
    "```SQL\n",
    "SELECT *\n",
    "FROM Course\n",
    "Where name LIKE '%Comp%';\n",
    "```"
   ]
  },
  {
   "cell_type": "markdown",
   "metadata": {},
   "source": [
    "### Aggregation"
   ]
  },
  {
   "cell_type": "markdown",
   "metadata": {},
   "source": [
    "`SUM, AVG, COUNT, MIN, MAX` can be applied to a column in a `SELECT`\n",
    "\n",
    "`COUNT(*)` counts the number of tuples \n",
    "\n",
    "`DISTINCT` inside the brackets can stop duplicates from contributing to the aggregation. \n",
    "\n"
   ]
  },
  {
   "cell_type": "markdown",
   "metadata": {},
   "source": [
    "`GROUP BY <attributes>` The tuples are grouped according to the values of those attributes and any aggregation give us a single value per group"
   ]
  },
  {
   "cell_type": "markdown",
   "metadata": {},
   "source": [
    "If any aggregation is used, then each element of the SELECT list must be aggregated or an attribute on the GROUP BY list. "
   ]
  },
  {
   "cell_type": "markdown",
   "metadata": {},
   "source": [
    "`HAVING` decide which groups to keep. \n",
    "```SQL\n",
    "...\n",
    "GROUP BY <<attributes>>\n",
    "HAVING <<condition>>\n",
    "```\n",
    "\n",
    "Outside subqueries, HAVING may refer to attributes only if they are either aggregated or an attribute on the GROUP BY list. "
   ]
  },
  {
   "cell_type": "markdown",
   "metadata": {},
   "source": [
    "Order of execution of a query <br>\n",
    "Writing query (execution order): \n",
    "```SQL \n",
    "SELECT (5)\n",
    "FROM (1)\n",
    "WHERE (2)\n",
    "GROUP BY (3)\n",
    "HAVING (4)\n",
    "ORDER BY (6)\n",
    "```"
   ]
  },
  {
   "cell_type": "markdown",
   "metadata": {},
   "source": [
    "### Set operations"
   ]
  },
  {
   "cell_type": "markdown",
   "metadata": {},
   "source": [
    "A table can have duplicate tuples, unless it violate an integrity constraint. \n",
    "\n",
    "**Set operations with Bags** <br>\n",
    "Using Multiset operations rather than set operations\n"
   ]
  }
 ],
 "metadata": {
  "kernelspec": {
   "display_name": "Python 3",
   "language": "python",
   "name": "python3"
  },
  "language_info": {
   "codemirror_mode": {
    "name": "ipython",
    "version": 3
   },
   "file_extension": ".py",
   "mimetype": "text/x-python",
   "name": "python",
   "nbconvert_exporter": "python",
   "pygments_lexer": "ipython3",
   "version": "3.6.7"
  }
 },
 "nbformat": 4,
 "nbformat_minor": 2
}
