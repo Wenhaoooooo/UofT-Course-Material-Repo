{
 "cells": [
  {
   "cell_type": "markdown",
   "metadata": {},
   "source": [
    "## Functional Dependency\n",
    "Let $R$ be a relation, $X,Y$ subset of attributes of $R$\n",
    "\n",
    "**X determines Y** assets that if two tuples agree on all the attributes in set $X$, they much also agree on all the attributes in set $Y$.  \n",
    "$X\\rightarrow Y: \\forall t_1,t_2. t_1[A]=t_2[A]\\rightarrow t_1[B]=t_2[B]$\n",
    "\n",
    "$A_1...A_n \\rightarrow B_1...B_m: \\forall t_1,t_2.t_1[A_1]=t_2[A_1]\\land ...\\land t_1[A_n]=t_2[A_n]\\rightarrow t_1[B_1]=t_2[B_1]\\land ...\\land t_1[B_m]=t_2[B_m]$ "
   ]
  },
  {
   "cell_type": "markdown",
   "metadata": {},
   "source": [
    "We can't break the LHS and get multiple FDs, but we can break RHS."
   ]
  },
  {
   "cell_type": "markdown",
   "metadata": {},
   "source": [
    "**FD are closely related to keys**  \n",
    "Suppose K is a set of attributes for relation R  \n",
    "K is a superkey for R IFF K functionally determines all of R\n",
    "\n",
    "**Inferring FDs**  Given a set of FDs we can often infer further FDs  \n",
    "Example: $A\\rightarrow B \\land B\\rightarrow C \\Rightarrow A\\rightarrow C$\n"
   ]
  },
  {
   "cell_type": "markdown",
   "metadata": {},
   "source": [
    "**Methods for Inferring FDs**  \n",
    "Proven an FD follows using the Closure Test  \n",
    "- Assume your know the values of the LHS attributes, and figure out everything else that is determined\n",
    "```python\n",
    "# Y: set of attributes\n",
    "# S: set of FDs\n",
    "Attribute-closure(Y, S):\n",
    "    Y+ = Y\n",
    "    while more changes occur:\n",
    "        if exists FD LHS->RHS in S s.t. LHS in Y+:\n",
    "            Y+ += YHS\n",
    "    return Y+\n",
    "```\n"
   ]
  },
  {
   "cell_type": "markdown",
   "metadata": {},
   "source": [
    "Follow Algorithm\n",
    "```python\n",
    "FD_follows(S, LHS->RHS):\n",
    "    Y+ = \n",
    "```"
   ]
  },
  {
   "cell_type": "markdown",
   "metadata": {},
   "source": [
    "Projection algorithm\n",
    "```python\n",
    "project(S, L):\n",
    "    T = []\n",
    "    for each subset X of L:\n",
    "        Compute X+\n",
    "        for attribute A in X+:\n",
    "            if A in L: \n",
    "                T += [X-> A]\n",
    "    return T\n",
    "```\n",
    "(To expansive)"
   ]
  },
  {
   "cell_type": "markdown",
   "metadata": {},
   "source": [
    "Minimal Basis: to minimize FDs\n",
    "```python\n",
    "minimal_basis(S):\n",
    "    split the RHS of each FD\n",
    "    for X->Y in FD where |X|>=2:\n",
    "        remove any attribute from X that get an FD that follows from S\n",
    "    for f in FD:\n",
    "        if S-{f} implies f:\n",
    "            remove f from S\n",
    "```"
   ]
  }
 ],
 "metadata": {
  "hide_input": false,
  "kernelspec": {
   "display_name": "Python 3",
   "language": "python",
   "name": "python3"
  },
  "language_info": {
   "codemirror_mode": {
    "name": "ipython",
    "version": 3
   },
   "file_extension": ".py",
   "mimetype": "text/x-python",
   "name": "python",
   "nbconvert_exporter": "python",
   "pygments_lexer": "ipython3",
   "version": "3.6.8"
  }
 },
 "nbformat": 4,
 "nbformat_minor": 2
}
