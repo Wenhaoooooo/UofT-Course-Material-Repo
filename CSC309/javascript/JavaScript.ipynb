{
 "cells": [
  {
   "cell_type": "markdown",
   "metadata": {},
   "source": [
    "#### $<$ES6\n",
    "- __function scope__ you can declare a variable by `var variance = ...` anywhere of the function and it will be hoisted, it can be access anywhere in the function. \n",
    "\n",
    "- __Hoisting__ declaration is hoisted to the top while assign to be undefined\n",
    "\n",
    "- __global scope__ when just do `variable = ...`, then the variable goes to global scope, and can be accessed anywhere in the script\n",
    "\n",
    "- `\"use strict\"` will strict you from declaring global scope variables by `variable = ...`\n",
    "\n",
    "- __Lexical scope__ the inner loop can access the declared value. Both `var` and global assignment are in lexical scope."
   ]
  },
  {
   "cell_type": "markdown",
   "metadata": {},
   "source": [
    "#### ES6\n",
    "- `let` have block scope. They can be only access in the block it declared\n",
    " - Lexical scope still apply\n",
    "\n",
    "- `const` same scope as let while cannot be reassigned\n",
    " - default to using `const` unless know you will have to re-assign a variable\n",
    "\n",
    "- Generally, don't use `var`\n"
   ]
  }
 ],
 "metadata": {
  "kernelspec": {
   "display_name": "Python 3",
   "language": "python",
   "name": "python3"
  },
  "language_info": {
   "codemirror_mode": {
    "name": "ipython",
    "version": 3
   },
   "file_extension": ".py",
   "mimetype": "text/x-python",
   "name": "python",
   "nbconvert_exporter": "python",
   "pygments_lexer": "ipython3",
   "version": "3.6.7"
  }
 },
 "nbformat": 4,
 "nbformat_minor": 2
}
