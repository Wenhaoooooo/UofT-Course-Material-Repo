{
 "cells": [
  {
   "cell_type": "markdown",
   "metadata": {},
   "source": [
    "## Layers\n",
    "### Application\n",
    " - provide applications with standardized protocols to exchange data \n",
    " - e.x. HTTP, FTP, SSH, SMTP, POP3; each specialized for purposes \n",
    " \n",
    "### Transport\n",
    " - provides host-to-host communication services \n",
    "   - \"Connection-oriented\"\n",
    "   - Send segments of data from the application layer\n",
    " - Transport protocol for TCP/IP is TCP\n",
    " - Exists other protocols i.e. UDP \n",
    " \n",
    "### Internet\n",
    " - provide protocols for sending packages across a network or through multi networks\n",
    " - Internet protocols handles this in TCP/IP\n",
    "   - Route data across networks using IP address\n",
    "   - Connection-less protocol\n",
    "     - No prearranged connection required to send data\n",
    "     \n",
    "\n",
    "### Link \n",
    " - protocols of the physical link between the nodes of the network (Wifi, Ethernet)"
   ]
  },
  {
   "cell_type": "markdown",
   "metadata": {},
   "source": [
    "## TCP\n",
    " - Should be bi-directional Both client and server should acknowledge when they get data \n",
    "\n",
    "### 3-Way handshake\n",
    " - SYN (c -> s), SYN-ACK (s -> c), ACK (c -> s) (Make sure the client is ready for accepting data)\n",
    " \n",
    "\n",
    "### Acknowledgements\n",
    " - Must acknowledge if they get any data each time\n",
    " - Reason: losing packets \n",
    " - If no acknowledge received, then send again\n",
    " - TCP is reliable but reacts to losing packets by slowing connection\n",
    " - UDP does not react to packet loss (faster, used in situchatting)"
   ]
  },
  {
   "cell_type": "markdown",
   "metadata": {},
   "source": [
    "### Web\n",
    "- A global collection of resources,\n",
    "  - stored in servers (computers)\n",
    "- which are identifiable \n",
    "  - Uniform Resource Locater (URL)\n",
    "- and linked together\n"
   ]
  },
  {
   "cell_type": "markdown",
   "metadata": {},
   "source": [
    "### HyperText Transfer Protocol HTTP\n",
    "- All machines can use HTTP through applications \n",
    "- identified through URLs\n",
    "  - DNS (Domain Name System) translate hostnames to IP addresses\n",
    "- To access more than one resources, extend the URL (/...)\n",
    "- Accessing the resource to ask the web server doing certain things\n",
    "  - Works by request response (from both sides)\n",
    "    - Originate from application Layer on both sides\n",
    "    Request includes URL, HTTP method (tell the server what we want to do), Headers and Body (optional, for additional information)\n",
    "    - HTTP methods: verbs that label the actions we expect a server to take: GET retrieve, POST create, PUT update, DELETE delete\n",
    "    - Server doesn't have 100% obligation to do theses expected actions, but they are pretty well followed standards\n",
    "    - Response code: standard indicator of the overall status\n",
    "    - Headers: give info about the response\n",
    "    - Body: the content\n",
    "- Link (hyperlink) Text/resources with hypertext are linked to other resources\n",
    "  "
   ]
  },
  {
   "cell_type": "markdown",
   "metadata": {},
   "source": [
    "### TCP\n",
    "- Ports: TCP or UDP port, every process on a computer that uses the Internet is assigned a port\n",
    "  - Server listen for HTTP requests usually uses port 80\n",
    "  - "
   ]
  }
 ],
 "metadata": {
  "kernelspec": {
   "display_name": "Python 3",
   "language": "python",
   "name": "python3"
  },
  "language_info": {
   "codemirror_mode": {
    "name": "ipython",
    "version": 3
   },
   "file_extension": ".py",
   "mimetype": "text/x-python",
   "name": "python",
   "nbconvert_exporter": "python",
   "pygments_lexer": "ipython3",
   "version": "3.7.1"
  }
 },
 "nbformat": 4,
 "nbformat_minor": 2
}
