{
 "cells": [
  {
   "cell_type": "markdown",
   "metadata": {},
   "source": [
    "_**Question**_ <br>\n",
    "a) $D = \\{1, 5, 10, 25\\}. \\forall n \\in \\mathbb{Z}^+$. Let $S$ be a multi-set of elements from $D$ such that $\\sum_{s\\in S} s = n$, minimize $|S|$ <br>"
   ]
  },
  {
   "cell_type": "markdown",
   "metadata": {},
   "source": [
    "_**Implementation**_ \n",
    "```python\n",
    "1 S = []\n",
    "2 while n > 0:\n",
    "3   if n >= 25:\n",
    "4     x = 25\n",
    "5   else if n >= 10:\n",
    "6     x = 10\n",
    "7   else if n >= 5:\n",
    "8     x = 5\n",
    "9   else:\n",
    "10     x = 1\n",
    "11  S.append(x)\n",
    "12  n -= x\n",
    "```"
   ]
  },
  {
   "cell_type": "markdown",
   "metadata": {},
   "source": [
    "_**Correctness**_ Let $S^*$ be the optimal multiset, let $S_i$ be the multiset of $S$ after $i$th iteration of the while loop. $S_0=\\emptyset$\n",
    "\n",
    "_**Claim**_ $S_i\\subseteq S^*$ \n",
    "Consider case 2.2., <br>\n",
    "    Suppose $x = 25, n \\geq 25, x\\not\\in S^*$, then at this case the only possible combinations suming up to 25"
   ]
  }
 ],
 "metadata": {
  "kernelspec": {
   "display_name": "Python 3",
   "language": "python",
   "name": "python3"
  },
  "language_info": {
   "codemirror_mode": {
    "name": "ipython",
    "version": 3
   },
   "file_extension": ".py",
   "mimetype": "text/x-python",
   "name": "python",
   "nbconvert_exporter": "python",
   "pygments_lexer": "ipython3",
   "version": "3.7.1"
  }
 },
 "nbformat": 4,
 "nbformat_minor": 2
}
