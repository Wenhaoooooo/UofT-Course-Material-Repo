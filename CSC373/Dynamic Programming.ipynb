{
 "cells": [
  {
   "cell_type": "markdown",
   "metadata": {},
   "source": [
    "#### Activity Scheduling with Profits\n",
    "- Input: $A =\\{A_1,...,A_n\\}$ where $A_i=(s_i,f_i,w_i)$ where $w_i\\in\\mathbb{N}$ is the profit\n",
    "- Output: $S\\subseteq A, S$ has no conflct and $w(S)=\\sum_{A_i\\in S} w_i$ is maximized"
   ]
  },
  {
   "cell_type": "markdown",
   "metadata": {},
   "source": [
    "_**Discussion**_\n",
    " - Note that Greedy won't work (finish time, profit, unit-profit)\n",
    " - Assume the activity are sorted by finish time. Consider $S^*$ optimal, consider $A_n$ which is the activity with the largest finishing time. \n",
    "  - If $A_n\\in S^*$, then $S^*-A_n$ must be optimal for $A'=\\{A_1,...,A_k\\}$ where $k$ is the last activity that does not overlap with $A_n$, a.k.a. $\\{A_{k+1},...,A_{n-1}\\}$ each overlap with $A_n$\n",
    "  - If $A_n\\not\\in S^*$, then $S^*$ is optimal for $A-\\{A_n\\}$\n",
    " - **Recursive substructure** when an optimal solution of a problem is made up of optimal solutions of the sub-problems."
   ]
  },
  {
   "cell_type": "markdown",
   "metadata": {},
   "source": [
    "_**Recursive Implementation**_ <br>\n",
    "`initialization(A)`compute $P = p[1],...,p[n]$ where $p[i]=$index of the last activity that does not overlap with $A_i$, note $p[i]\\leq i-1$\n",
    "\n",
    "```python\n",
    "solution(A):\n",
    "    P = initialization(A)\n",
    "    return RecOpt(n, P)\n",
    "\n",
    "RecOpt(n, P):\n",
    "    if n = 0;\n",
    "        return 0\n",
    "    return max(RecOpt(n-1), w_n + RecOpt(p[n]))\n",
    "```\n",
    "Note that the runtime has combinatorial explosion due to the repeated calls of `RecOpt(i)` for small `i` for exponentially many times. THe runtime is exponential only because it is recursive, To solve it\n",
    " - memorization: memorize the output of RecOpt(i) and record for later usage\n",
    " - Instead, compute values bottom-up\n",
    " \n",
    "```python\n",
    "IterOpt(A):\n",
    "    initialization(A)\n",
    "    OPT = []\n",
    "    OPT[0] = 0\n",
    "    for i in range(1, n):\n",
    "        OPT[i] = max(OPT[i-1], w_i + OPT[p[i]])\n",
    "    return OPT # note that OPT is useful to get S\n",
    "```\n"
   ]
  },
  {
   "cell_type": "markdown",
   "metadata": {},
   "source": [
    "_**Dynamic Programming**_\n",
    " - For optimization problems where global optimum is obtained from optimum to subproblems\n",
    " - The subproblems need to be simple Each subproblem can be characterized using a fixed number of indexes or other information\n",
    " - Subproblem overlap: smaller subproblems repeated in solutions to larger problems"
   ]
  }
 ],
 "metadata": {
  "kernelspec": {
   "display_name": "Python 3",
   "language": "python",
   "name": "python3"
  },
  "language_info": {
   "codemirror_mode": {
    "name": "ipython",
    "version": 3
   },
   "file_extension": ".py",
   "mimetype": "text/x-python",
   "name": "python",
   "nbconvert_exporter": "python",
   "pygments_lexer": "ipython3",
   "version": "3.6.7"
  }
 },
 "nbformat": 4,
 "nbformat_minor": 2
}
