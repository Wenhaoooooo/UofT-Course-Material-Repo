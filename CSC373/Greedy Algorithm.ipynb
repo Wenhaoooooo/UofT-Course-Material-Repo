{
 "cells": [
  {
   "cell_type": "markdown",
   "metadata": {},
   "source": [
    "## Greedy Algorithm\n",
    "****\n",
    "#### Activity Schedule \n",
    "$A = \\{a_1,...,a_n\\}$ set of tasks, $|A|=n$, $a_i = (s_1,f_i), s_i=$ start time, $f_i=$ finish time. $S \\subseteq A. S=$ set of tasks without overlap. Maximize $|S|$. <br>\n"
   ]
  },
  {
   "cell_type": "markdown",
   "metadata": {},
   "source": [
    "_**Implementation**_ Greedy based on finish time <br>\n",
    "```python\n",
    "1  sort A by the finishing time\n",
    "2  f = 0 # finishing time\n",
    "3  S = []\n",
    "4  for ai in A: \n",
    "5      if f <= ai.s: # the start time of the ith activity\n",
    "6          S.append(si)\n",
    "7          f = ai.f\n",
    "8  return S\n",
    "```"
   ]
  },
  {
   "cell_type": "markdown",
   "metadata": {},
   "source": [
    "_**Correctness**_  Thrm 16.1 CLRS<br>\n",
    "Define $OPT\\subseteq A$ be an optimal solution of the problem, in which $|OPT|$ is maximized and there is no overlapping in $OPT$.<br>\n",
    "Define $S_k$ be the state of $S$ after the $k$th iteration of the for loop (4-7), $S_0$ be the state before entering the loop.<br>\n",
    "__*Claim*__ $\\exists OPT. \\forall k\\in\\mathbb{N}.S_k\\subseteq OPT\\subseteq S_k\\cup\\{A_{k+1},...,A_n\\}$. (loop invariant)<br> \n",
    "__*Proof*__ prove by induction <br>\n",
    "_Base case_ $S_0=\\emptyset\\subseteq OPT\\subseteq \\{A_1,...,A_n\\}$ <br>\n",
    "_Inductive step_ Take $OPT$ be some optimal solution,assume the inductive hypothesis. Consider the two cases\n",
    " - $S_{i+1} = S_i$, a.k.a. $A_{k+1}$ overlaps with some activity in $S_{i}$. By induction hypothesis, $S_{i+1}\\subseteq OPT\\subseteq S_k \\cup \\{A_{k+1},..., A_n\\}=S_{k+1}\\cup \\{A_{k+1},..., A_n\\}$. Moreover, $A_{k+1}\\not\\in OPT$ because $A_{k+1}$ would overlap with some activity in $OPT$, hence $S_{i+1}\\subseteq OPT\\subseteq S_{k+1}\\cup \\{A_{k+1},..., A_n\\} - \\{A_{k+1}\\} = S_{k+1}\\cup \\{A_{k+2},..., A_n\\}$. \n",
    " \n",
    "- $S_{i+1} = S_{i}\\cup \\{A_{k+1}\\}$. <br>\n",
    "  If $A_{k+1}\\in OPT$, then the claim is proven. <br>\n",
    "  If $A_{k+1}\\not\\in OPT$, then consider $A_m\\in OPT, m > i+1$ is the smallest index that is greater than $i+1$, then $A_m$ has greater finishing time than $A_{k+1}$, let $OPT' = OPT - {A_m} \\cup \\{A_{i+1}\\}, |OPT'|=|OPT|$, $A_{k+1}$ will not overlap with any other activities in $OPT'$ since it will not overlap with any activities before $A_m$ by its starting time property, and it will not overlap with any activity after $A_m$ since it even finishes earlier than $A_m$, then $OPT'$ is a optimal solution, and $S_{k+1}\\subseteq OPT'$ since $m > i+1, A_m\\not\\in S_{k+1}$, and $OPT' \\subseteq S_{k+1}\\cup\\{A_{k+2},...,A_n\\}$ since $A_{k+1}\\in S_{k+1}$"
   ]
  },
  {
   "cell_type": "markdown",
   "metadata": {},
   "source": [
    "__*General strategy for proving Greedy correctness*__ every _partial solution_ generated can be _extended_ to an _optimal solution_ <br>\n",
    "\n",
    "Proof of sub-case 2.2 is called _exchange lemma_"
   ]
  },
  {
   "cell_type": "markdown",
   "metadata": {},
   "source": [
    "#### Minimal Spanning Tree\n",
    "Let $G=(V,E)$ be a connected graph with weight function $w(e)\\in\\mathbb{N}. \\forall e\\in E$. <br>\n",
    "A Spanning tree $S = (V,T)$ is an acyclic, connected subgraph (tree) of $G$.<br>\n",
    "minimize $w(T)=\\sum_{e\\in T}w(e)$ \n"
   ]
  },
  {
   "cell_type": "markdown",
   "metadata": {},
   "source": [
    "_**Implementation**_\n",
    " - _Prim's Algorithm_ Start with an arbitrary vertex $v$, let $C = \\{v\\}$ be the connected component. For each iteration, add the shortest edge attaches to $C$ and some $u\\not\\in C$, until $C = V$. \n",
    " - _Kruskal's Algorithm_ Start with $T = \\emptyset$, let $E'$ be $E$ sorted in non-increasing order of weight. Iterate over $E'$, if $e$ connects two different connected component (implement with disjoint set), adds to $T$. \n",
    " ```python\n",
    "krustal_mst():\n",
    "1 sort E by non-increasing order\n",
    "2 T = [] #empty disjoint set\n",
    "3 for e in range(1,m):\n",
    "4     if e connects two disjoint sets:\n",
    "5         T.append(e) \n",
    " ```\n",
    " - _Reverse remove Algorithm_ Starts with $T = E$, let $E'$ be $E$ sorted in non-decreasing order of weight, iterate over $E'$, remove $e$ from $T$ if the two vertices are still connected. \n",
    " \n"
   ]
  },
  {
   "cell_type": "markdown",
   "metadata": {},
   "source": [
    "_**Correctness (Krustal's)**_ <br>\n",
    "Define $T_i$ be the state of $T$ after the $i$th iteration of the for loop (line 3-5), $T_0=\\emptyset$. Define $T^*$ be the optimal solution.<br>\n",
    "**Claim** $\\forall n\\in\\mathbb{N}. T_n\\subseteq T^*\\subseteq T_n\\cup\\{e_{n+1},...,e_{m}\\}$ <br>\n",
    "**Proof** Let $n\\in\\mathbb{N}$.<br>\n",
    "Suppose $n = 0$, $\\emptyset\\subseteq T^* \\subseteq E$. <br>\n",
    "Suppose $n > 0$, assume $P(n)$. <br>\n",
    " - Suppose $T_{n+1} = T_{n}$, then by the if condition (line 4), $e_{n+1}$ will create a cycle in $T_n$, hence $e_{n+1}\\not\\in T^*$. Therefore, $T_{n+1} = T_n \\subseteq T^* \\subseteq T_{n+1}\\cup\\{e_{n+2},...,e_m\\}$\n",
    " - Suppose $T_{n+1} = T_{n}\\cup\\{e_{n+1}\\}$ <br>\n",
    "  If $e_{n+1} \\in T^*$, then proven <br>\n",
    "  If $e_{n+1}\\not\\in T^*$, say $e_{n+1} = (u, v),u\\in T_n, v\\not\\in T_n$, then consider some $e_i\\in T^*$ with one endpoint being $v$, $e_i\\not\\in T_n$ since T_n does not connect $v$. Then, $w(e_i)\\geq w(e_{n+1})$ by the sorting property. $w(T^* - \\{e_i\\}\\cup\\{e_{k+1}\\})\\leq w(T^*)$. Also, $T^* - \\{e_i\\}\\cup\\{e_{k+1}\\}$ is connected, acyclic by the MST property of $T^*$. "
   ]
  }
 ],
 "metadata": {
  "kernelspec": {
   "display_name": "Python 3",
   "language": "python",
   "name": "python3"
  },
  "language_info": {
   "codemirror_mode": {
    "name": "ipython",
    "version": 3
   },
   "file_extension": ".py",
   "mimetype": "text/x-python",
   "name": "python",
   "nbconvert_exporter": "python",
   "pygments_lexer": "ipython3",
   "version": "3.7.1"
  }
 },
 "nbformat": 4,
 "nbformat_minor": 2
}
