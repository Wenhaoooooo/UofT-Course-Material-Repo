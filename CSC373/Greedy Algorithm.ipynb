{
 "cells": [
  {
   "cell_type": "markdown",
   "metadata": {},
   "source": [
    "## Greedy Algorithm\n",
    "****\n",
    "#### _Question 1_\n",
    "$A = \\{a_1,...,a_n\\}$ set of tasks, $|A|=n$, $a_i = (s_1,f_i), s_i=$ start time, $f_i=$ finish time. $S \\subseteq A. S=$ set of tasks without overlap. Maximize $|S|$. <br>\n",
    "_**Implementation**_ Greedy based on finish time <br>\n",
    "```python\n",
    "1  sort A by the finishing time\n",
    "2  f = 0 # finishing time\n",
    "3  S = []\n",
    "4  for ai in A: \n",
    "5      if f <= ai.s: # the start time of the ith activity\n",
    "6          S.append(si)\n",
    "7          f = ai.f\n",
    "8  return S\n",
    "```\n",
    "_**Correctness**_  Thrm 16.1 CLRS<br>\n",
    "Define $OPT\\subseteq A$ be an optimal solution of the problem, in which $|OPT|$ is maximized and there is no overlapping in $OPT$.<br>\n",
    "Define $S_k$ be the state of $S$ after the $k$th iteration of the for loop (4-7), $S_0$ be the state before entering the loop.<br>\n",
    "__*Claim*__ $\\exists OPT. \\forall k\\in\\mathbb{N}.S_k\\subseteq OPT\\subseteq S_k\\cup\\{A_{k+1},...,A_n\\}$. (loop invariant)<br> \n",
    "__*Proof*__ prove by induction <br>\n",
    "_Base case_ $S_0=\\emptyset\\subseteq OPT\\subseteq \\{A_1,...,A_n\\}$ <br>\n",
    "_Inductive step_ Take $OPT$ be some optimal solution,assume the inductive hypothesis. Consider the two cases\n",
    " - $S_{i+1} = S_i$, a.k.a. $A_{k+1}$ overlaps with some activity in $S_{i}$. By induction hypothesis, $S_{i+1}\\subseteq OPT\\subseteq S_k \\cup \\{A_{k+1},..., A_n\\}=S_{k+1}\\cup \\{A_{k+1},..., A_n\\}$. Moreover, $A_{k+1}\\not\\in OPT$ because $A_{k+1}$ would overlap with some activity in $OPT$, hence $S_{i+1}\\subseteq OPT\\subseteq S_{k+1}\\cup \\{A_{k+1},..., A_n\\} - \\{A_{k+1}\\} = S_{k+1}\\cup \\{A_{k+2},..., A_n\\}$. \n",
    " \n",
    "- $S_{i+1} = S_{i}\\cup \\{A_{k+1}\\}$. <br>\n",
    "  If $A_{k+1}\\in OPT$, then the claim is proven. <br>\n",
    "  If $A_{k+1}\\not\\in OPT$, then consider $A_m\\in OPT, m > i+1$ is the smallest index that is greater than $i+1$, then $A_m$ has greater finishing time than $A_{k+1}$, let $OPT' = OPT - {A_m} \\cup \\{A_{i+1}\\}, |OPT'|=|OPT|$, $A_{k+1}$ will not overlap with any other activities in $OPT'$ since it will not overlap with any activities before $A_m$ by its starting time property, and it will not overlap with any activity after $A_m$ since it even finishes earlier than $A_m$, then $OPT'$ is a optimal solution, and $S_{k+1}\\subseteq OPT'$ since $m > i+1, A_m\\not\\in S_{k+1}$, and $OPT' \\subseteq S_{k+1}\\cup\\{A_{k+2},...,A_n\\}$ since $A_{k+1}\\in S_{k+1}$"
   ]
  },
  {
   "cell_type": "markdown",
   "metadata": {},
   "source": [
    "__*General strategy for proving Greedy correctness*__ every _partial solution_ generated can be _extended_ to an _optimal solution_ <br>\n",
    "\n",
    "Proof of sub-case 2.2 is called _exchange lemma_"
   ]
  },
  {
   "cell_type": "markdown",
   "metadata": {},
   "source": []
  },
  {
   "cell_type": "markdown",
   "metadata": {},
   "source": [
    "#### _Question 2_\n",
    "a) $D = \\{1, 5, 10, 25\\}. \\forall n \\in \\mathbb{Z}^+$. Let $S$ be a multi-set of elements from $D$ such that $\\sum_{s\\in S} s = n$, minimize $|S|$ <br>\n",
    "_**Implementation**_ \n",
    "```python\n",
    "1 while n > 0:\n",
    "2   if n >= 25:\n",
    "3     n -= 25\n",
    "4     S.append(25)\n",
    "5   else if n >= 10:\n",
    "6     n -= 10\n",
    "7     S.append(10)\n",
    "8   else if n >= 5:\n",
    "9     n -= 5\n",
    "10     S.append(5)\n",
    "11   else:\n",
    "12     n -= 1\n",
    "13     S.append(1)\n",
    "```\n",
    "_**Correctness**_"
   ]
  }
 ],
 "metadata": {
  "kernelspec": {
   "display_name": "Python 3",
   "language": "python",
   "name": "python3"
  },
  "language_info": {
   "codemirror_mode": {
    "name": "ipython",
    "version": 3
   },
   "file_extension": ".py",
   "mimetype": "text/x-python",
   "name": "python",
   "nbconvert_exporter": "python",
   "pygments_lexer": "ipython3",
   "version": "3.7.1"
  }
 },
 "nbformat": 4,
 "nbformat_minor": 2
}
