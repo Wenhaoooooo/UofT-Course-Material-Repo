{
 "cells": [
  {
   "cell_type": "markdown",
   "metadata": {},
   "source": [
    "## Greedy Algorithm\n",
    "****\n",
    "_**Question**_ $A = \\{a_1,...,a_n\\}$ set of tasks, $|A|=n$, $a_i = (s_1,f_i), s_i=$ start time, $f_i=$ finish time. $S \\subseteq A. S=$ set of tasks without overlap. Maximize $|S|$. <br>\n",
    "_**Discussion**_  Greedy based on finish time <br>\n",
    "_**Implementation**_\n",
    "```python\n",
    "sort A by the finishing time\n",
    "f = 0 # finishing time\n",
    "S = []\n",
    "for ai in A: \n",
    "    if f <= ai.s: # the start time of the ith activity\n",
    "        S.append(si)\n",
    "        f = ai.f\n",
    "return S\n",
    "```\n",
    "_**Correctness**_  <br>\n",
    "Define $S^*$ be the optimal solution. <br> \n",
    "Define $S$ is promising if it is possible to extend and become $S^*$. <br> \n",
    "_**Claim**_ &nbsp; $S$ is promising<br>\n",
    "_**Proof**_ &nbsp; Let $S_i$ be the state of $S$ after the $i$th iteration of the for loop. <br>\n",
    "Base case: $S_0 = \\emptyset$ is promising <br>\n",
    "Inductive Step: consider the last element $S_{i+1}$, \n",
    "  - $S_{i+1} = S_i$ by induction hypothesis this is proven \n",
    "  - $S_{i+1} = S_i \\cup \\{a_{i+1}\\}$: consider $S_{i+1}^{*}$ be the subset of $S^*$ after $a_i$, say $a_k, k \\geq i+1$ is the first element of $S_{i+1}^*$, then $a_k.f \\geq a_{i+1}.f$. Then in the $(a_i.s,a_k.f)$ time frame, there is no other activity in $S^*$. Then, we can replace $a_i$ to $a_k$ since $a_i.f \\leq a_k.f$, "
   ]
  }
 ],
 "metadata": {
  "kernelspec": {
   "display_name": "Python 3",
   "language": "python",
   "name": "python3"
  },
  "language_info": {
   "codemirror_mode": {
    "name": "ipython",
    "version": 3
   },
   "file_extension": ".py",
   "mimetype": "text/x-python",
   "name": "python",
   "nbconvert_exporter": "python",
   "pygments_lexer": "ipython3",
   "version": "3.7.1"
  }
 },
 "nbformat": 4,
 "nbformat_minor": 2
}
