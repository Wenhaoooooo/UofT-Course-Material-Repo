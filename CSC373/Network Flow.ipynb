{
 "cells": [
  {
   "cell_type": "markdown",
   "metadata": {},
   "source": [
    "**network** $N=(V,E)$ is a directed, connected with:\n",
    " - **source** $s\\in V$ no incoming edge\n",
    " - **sink** $t\\in V$ no outgoing edge\n",
    " - **capacity** $c:E\\rightarrow \\mathbb{N}$\n"
   ]
  },
  {
   "cell_type": "markdown",
   "metadata": {},
   "source": [
    "#### Question\n",
    "Assign **flow** $f(e)\\in\\mathbb{R}^{\\geq 0}$ s.t. \n",
    " - $\\forall e\\in E. 0\\leq f(e)\\leq c(e)$\n",
    " - $\\forall v\\in V-\\{s,t\\}, f^{in}(v)=f^{out}(v)$, where $f^{in}(v)=\\sum_{(u,v)\\in E}f(u,v), f^{out}(v)=\\sum_{(u,v)\\in E}f(v,u)$\n",
    " - Maximize flow in $N$: $|f|=f^{out}(s)=f^{in}(t)$"
   ]
  },
  {
   "cell_type": "markdown",
   "metadata": {},
   "source": [
    "#### Discussion\n",
    "Start with any feasible solution (one that satisfies the basic constraints)\n",
    "\n",
    "Make incremental improvements, until this is no longer possible"
   ]
  },
  {
   "cell_type": "markdown",
   "metadata": {},
   "source": [
    "#### Ford-Fulkerson Algorithm\n",
    "start with any valid flow $f$, e.g. $f(e)=0$ <br>\n",
    " while there is some augmenting path $P$ in $N$: augment $f$ along $P$\n",
    " \n",
    "First idea: path $P=s\\rightarrow v_1\\sim v_k\\rightarrow t$ is augmenting IFF $f(e)<c(e), \\forall e\\in P$\n",
    "\n",
    "For every edge on $P$, define residual capacity of the edge $\\Delta(u,v)=c(u,v)-f(u,v)$, define residual capacity of the path $\\Delta(P)=\\min\\{\\Delta(u,v)\\mid (u,v)\\in P\\}$, then augmenting $f$ along $P$ simply add $\\Delta(P)$ to $f(e)$ for each $e\\in P$\n",
    "\n",
    "After the augmentation, the graph will end up with non-maximum "
   ]
  }
 ],
 "metadata": {
  "kernelspec": {
   "display_name": "Python 3",
   "language": "python",
   "name": "python3"
  },
  "language_info": {
   "codemirror_mode": {
    "name": "ipython",
    "version": 3
   },
   "file_extension": ".py",
   "mimetype": "text/x-python",
   "name": "python",
   "nbconvert_exporter": "python",
   "pygments_lexer": "ipython3",
   "version": "3.6.7"
  }
 },
 "nbformat": 4,
 "nbformat_minor": 2
}
