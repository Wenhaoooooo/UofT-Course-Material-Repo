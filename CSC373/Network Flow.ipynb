{
 "cells": [
  {
   "cell_type": "markdown",
   "metadata": {},
   "source": [
    "**network** $N=(V,E)$ is a directed, connected with:\n",
    " - **source** $s\\in V$ no incoming edge\n",
    " - **sink** $t\\in V$ no outgoing edge\n",
    " - **capacity** $c:E\\rightarrow \\mathbb{N}$\n"
   ]
  },
  {
   "cell_type": "markdown",
   "metadata": {},
   "source": [
    "#### Question\n",
    "Assign **flow** $f(e)\\in\\mathbb{R}^{\\geq 0}$ s.t. \n",
    " - $\\forall e\\in E. 0\\leq f(e)\\leq c(e)$\n",
    " - $\\forall v\\in V-\\{s,t\\}, f^{in}(v)=f^{out}(v)$, where $f^{in}(v)=\\sum_{(u,v)\\in E}f(u,v), f^{out}(v)=\\sum_{(u,v)\\in E}f(v,u)$\n",
    " - Maximize flow in $N$: $|f|=f^{out}(s)=f^{in}(t)$"
   ]
  },
  {
   "cell_type": "markdown",
   "metadata": {},
   "source": [
    "#### Discussion\n",
    "Start with any feasible solution (one that satisfies the basic constraints)\n",
    "\n",
    "Make incremental improvements, until this is no longer possible"
   ]
  },
  {
   "cell_type": "markdown",
   "metadata": {},
   "source": [
    "#### Ford-Fulkerson Algorithm\n",
    "start with any valid flow $f$, e.g. $f(e)=0$ <br>\n",
    " while there is some augmenting path $P$ in $N$: augment $f$ along $P$\n",
    " \n",
    "path $P=s\\rightarrow v_1\\sim v_k\\rightarrow t$ is augmenting IFF $f(e)<c(e), \\forall e\\in P$\n",
    "\n",
    "**First step**<br> \n",
    "For every edge on $P$, define residual capacity of the edge $\\Delta(u,v)=c(u,v)-f(u,v)$, define residual capacity of the path $\\Delta(P)=\\min\\{\\Delta(u,v)\\mid (u,v)\\in P\\}$, then augmenting $f$ along $P$ simply add $\\Delta(P)$ to $f(e)$ for each $e\\in P$\n",
    "\n",
    "After the augmentation, the graph will end up with non-maximum \n",
    "\n",
    "**Second step**<br>\n",
    "Extend the notion of augmenting path. For each path, regardless direction.\n",
    "- send flow on a \"backward edge\" to somewhere else. Call its residual capacity $\\Delta(e)=f(e)$\n",
    "- All other edges are \"forward\" remains unchanged. \n",
    "- To augment $f$, increase $f(e)$ for forward edges, decrease $f(e)$ for backward edges. "
   ]
  },
  {
   "cell_type": "markdown",
   "metadata": {},
   "source": [
    "#### Residual Network\n",
    "For network $N$, flow $f$, create a residual network $N'=(V,E')$. For each edge, change it to dual directions with weights $w(u,v)=\\Delta(u,v)$ on the unchanged direction, $w(v,u)=f(u,v)$ on the reversed direction.\n",
    "\n",
    "Therefore, augment path in $N$ is equivalent to augment path in $N'$"
   ]
  },
  {
   "cell_type": "markdown",
   "metadata": {},
   "source": [
    "#### Correctness of the strategy\n",
    "**Cut** a partition of $V=\\{V_s,V_t\\},s\\in V_s, t\\in V_t$ <br>\n",
    "$\\forall X=\\{V_s,V_t\\}$ cut. <br> \n",
    "Define capacity $c(X)=\\sum_{u\\in V_s, v\\in V_t\\\\(u,v)\\in E} c(u,v)$, we say such path is forward in respect to $X$. <br>\n",
    "Define flow $f(X)=\\sum_{u\\in V_s, v\\in V_t\\\\(u,v)\\in E} f(u,v)-\\sum_{u\\in V_t, v\\in V_s\\\\(u,v)\\in E} f(u,v)$\n",
    "\n",
    "**Observations**\n",
    "- $\\forall N, f \\text{ valid}, X. f(X)\\leq c(X)$\n",
    "- $\\forall N,f,X. f(X)=|f|$\n",
    "\n",
    "**Theorem** $\\forall N, f \\text{ valid}. |f| $ is maximized IFF $N$ has no augmenting path. \n",
    "\n",
    "**Proof** $\\Rightarrow$ Suppose $N$ contains an augmenting path. then current $|f|$ is no maximized. Proven by contradiction. \n",
    "\n",
    "$\\Leftarrow$ Assume $N$ does not contain an augmenting path, construct cut $X$ as: \n",
    "\n",
    "- start with $V_s=\\{s\\}, V_t=V-V_s$ \n",
    "- for any edge $(u,v), u\\in V_s, v\\in V_t, f(u,v)<c(u,v), V_t = V_t-\\{v\\}, V_s = V_s\\cup \\{v\\}$\n",
    "- for any $(u,v), u\\in V_t, v\\in V_s, f(u,v)>0, V_t=V_t - \\{u\\}, V_s=V_s\\cup \\{u\\}$\n",
    "\n",
    "repeat as long as possible. Equivalently, $V_s = $ all vertices reachable from $s$ in $N'$, $V_t=V-V_s$\n",
    "\n",
    "Then, $t\\not\\in V_s$, $X=(V_s,V_t)$ is valid and $\\forall (u,v)\\in E, u\\in V_s, v\\in V_t. f(u,v)c(u,v). \\forall (u,v)\\in E, u\\in V_t, v\\in V_s, f(u,v)=0$.\n",
    "\n",
    "Therefore $|f|=f(X)=c(X)$"
   ]
  }
 ],
 "metadata": {
  "hide_input": false,
  "kernelspec": {
   "display_name": "Python 3",
   "language": "python",
   "name": "python3"
  },
  "language_info": {
   "codemirror_mode": {
    "name": "ipython",
    "version": 3
   },
   "file_extension": ".py",
   "mimetype": "text/x-python",
   "name": "python",
   "nbconvert_exporter": "python",
   "pygments_lexer": "ipython3",
   "version": "3.6.8"
  }
 },
 "nbformat": 4,
 "nbformat_minor": 2
}
