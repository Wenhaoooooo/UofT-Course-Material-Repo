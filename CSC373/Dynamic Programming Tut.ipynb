{
 "cells": [
  {
   "cell_type": "markdown",
   "metadata": {},
   "source": [
    "#### Question\n",
    "Given $W\\in\\mathbb{Z}^+, I = \\{(w_1, v_1),...,(w_n,v_n)\\}$, $w_i,v_i\\in\\mathbb{Z}^+$. Maximize for set $S$ s.t. $\\sum_{i\\in S} w_i \\leq W \\land \\sum_{i\\in S} v_i$ maximized. "
   ]
  },
  {
   "cell_type": "markdown",
   "metadata": {},
   "source": [
    "_**0. Recurrence**_ <br>\n",
    "Let $v_k\\in S$ having the maximum value, then $S-\\{k\\}$ must be the optimal set for $W-w_k$, otherwise will cause contradiction. "
   ]
  },
  {
   "cell_type": "markdown",
   "metadata": {},
   "source": [
    "_**1. Table**_\n"
   ]
  }
 ],
 "metadata": {
  "kernelspec": {
   "display_name": "Python 3",
   "language": "python",
   "name": "python3"
  },
  "language_info": {
   "codemirror_mode": {
    "name": "ipython",
    "version": 3
   },
   "file_extension": ".py",
   "mimetype": "text/x-python",
   "name": "python",
   "nbconvert_exporter": "python",
   "pygments_lexer": "ipython3",
   "version": "3.6.7"
  }
 },
 "nbformat": 4,
 "nbformat_minor": 2
}
