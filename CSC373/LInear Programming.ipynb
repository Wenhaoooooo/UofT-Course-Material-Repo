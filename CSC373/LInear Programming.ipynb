{
 "cells": [
  {
   "cell_type": "markdown",
   "metadata": {},
   "source": [
    "## Question 1\n",
    "determine type of ridings difference  \n",
    "**Input** platforms issues to emphasize. Market research gives following table of voters (lost/grand for each $1 spending)\n",
    "\n",
    "<table>\n",
    "        <tr>\n",
    "                <th></th><th>urban</th><th>sub</th><th>rural</th>\n",
    "        </tr>\n",
    "        <tr>\n",
    "                <td>roads</td><td>-2</td><td>5</td><td>3</td>\n",
    "        </tr>\n",
    "        <tr>\n",
    "                <td>gun control</td><td>8</td><td>2</td><td>-5</td>\n",
    "        </tr>\n",
    "        <tr>\n",
    "                <td>farms</td><td>0</td><td>0</td><td>10</td>\n",
    "        </tr>\n",
    "        <tr>\n",
    "                <td>government</td><td>10</td><td>0</td><td>-2</td>\n",
    "        </tr>\n",
    "</table>\n",
    "\n",
    "**Goal** Achieve gains of at least 50k urban, 100 sub-urban, 25k rural while spending as little as possible, identify unknowns $x_1,x_2,x_3,x_4\\in\\mathbb{R^{\\geq 0}}$ is the spend on roads, gun control, farms, and government in advertising (unit is 1k), respectively, where $x_1+x_2+x_3+x_4$ minimized. \n",
    "Formalized: \n",
    "\n",
    "$$\\begin{bmatrix}\n",
    "        -2 & 8 & 0 & 10 \\\\\n",
    "        5 & 2 & 0 & 0 \\\\\n",
    "        3 & -5 & 10 & -2 \\\\\n",
    "        1 & 0 & 0 & 0 \\\\\n",
    "        0 & 1 & 0 & 0 \\\\\n",
    "        0 & 0 & 1 & 0 \\\\\n",
    "        0 & 0 & 0 & 1\n",
    "\\end{bmatrix} \\begin{bmatrix}\n",
    "        x_1 \\\\\n",
    "        x_2 \\\\\n",
    "        x_3 \\\\\n",
    "        x_4\n",
    "\\end{bmatrix} \\geq \n",
    "\\begin{bmatrix}\n",
    "        50 \\\\\n",
    "        100 \\\\\n",
    "        25 \\\\\n",
    "        0 \\\\ 0 \\\\ 0 \\\\ 0\n",
    "\\end{bmatrix}\n",
    "$$ \n",
    "minimize $\\sum_1^4 x_i$\n"
   ]
  },
  {
   "cell_type": "markdown",
   "metadata": {},
   "source": [
    "**Generally** a linear program consists of \n",
    " - variables $\\vec{X}\\in\\mathbb{R}^n$\n",
    " - objective function: min/maximization $\\vec{c}\\vec{X},\\vec{c}\\in\\mathbb{R^n}$\n",
    " - constraint $\\vec{a_j}\\vec{X} \\le | = |\\ge b_j, \\vec{a_j}\\in\\mathbb{R}^n, 1\\leq j\\leq m$. Note that the constraint are not strict (otherwise it cannot be solved as real number for open set). Matrix notation is used when all the constraints comparison relations are the same"
   ]
  },
  {
   "cell_type": "markdown",
   "metadata": {},
   "source": [
    "Any inequality can be translated as cutting on an infinite plane. Each constraint eliminates one-half plane. \n",
    "\n",
    "**Feasible region** is the collection of values that satisfy every constraint.\n",
    " - $\\emptyset$ - No solution \n",
    " - unbounded - No extremum, no solution\n",
    " - bounded - either exactly one solution or infinitely many solutions"
   ]
  },
  {
   "cell_type": "markdown",
   "metadata": {},
   "source": [
    "#### Algorithm \n",
    "- Simplex algorithm worst-case exponential time (However, the edge case is very rare, commonly, it runs in polynomial with small constant)\n",
    "- Interior point methods (worst-case polynomial but has large constant)"
   ]
  },
  {
   "cell_type": "markdown",
   "metadata": {},
   "source": [
    "#### Applications\n",
    "1. network flow problem\n",
    " - variables: $x(u,v) = f(u,v).\\forall (u,v)\\in E$\n",
    " - objective function: maximize $\\sum_{(s,v)\\in E} x(s,v)$\n",
    " - constraint: $0\\leq x(u,v)\\leq c(u,v)\\land \\sum_{(u,v)\\in E}x(u,v)=\\sum_{(v,u)\\in E} x(v,u). \\forall u\\in V-\\{s,t\\}$\n",
    " \n",
    " clearly, solutions to network flow problem corresponds to solutions to the linear program.   \n",
    " Note that the method does not guarantee integer-valued solution, even the actual solution is integer\n",
    " \n",
    "2. shortest path\n",
    " - $\\forall v\\in V. d_v=\\min\\{w(s\\sim v)\\}$"
   ]
  }
 ],
 "metadata": {
  "hide_input": false,
  "kernelspec": {
   "display_name": "Python 3",
   "language": "python",
   "name": "python3"
  },
  "language_info": {
   "codemirror_mode": {
    "name": "ipython",
    "version": 3
   },
   "file_extension": ".py",
   "mimetype": "text/x-python",
   "name": "python",
   "nbconvert_exporter": "python",
   "pygments_lexer": "ipython3",
   "version": "3.6.8"
  }
 },
 "nbformat": 4,
 "nbformat_minor": 2
}
