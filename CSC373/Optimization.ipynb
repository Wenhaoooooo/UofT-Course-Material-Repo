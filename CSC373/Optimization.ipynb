{
 "cells": [
  {
   "cell_type": "markdown",
   "metadata": {},
   "source": [
    "Note: definition of NP-hardness based on worst-case analysis.  \n",
    "Hence look for special characteristics o f\"real life\" inputs.  \n",
    "- 2SAT$\\in$ P, \n",
    "- many graph problems are easier for restricted graph families \n",
    " - max independent set on trees\n",
    " - planar graphs (graph without edge intersection)\n",
    " - degree-restricted \n",
    " \n"
   ]
  },
  {
   "cell_type": "markdown",
   "metadata": {},
   "source": [
    "NP-hard: no **exact efficient** solution for **all** inputs. "
   ]
  },
  {
   "cell_type": "markdown",
   "metadata": {},
   "source": [
    "## Approximation Algorithm\n"
   ]
  },
  {
   "cell_type": "markdown",
   "metadata": {},
   "source": [
    "In general, for minimization problem.  \n",
    "Let $opt(x):=$ best (minimum) value of any solution for input $x$.  \n",
    "For any algorithm, let $A(x)$ be the value of the solution generated. $A(x)\\geq opt(x)$.  \n",
    "**Approximation ratio** for an minimization algorithm, $r(n)$ s.t. all inputs $x$ of size $n, A(x)\\leq r(n)opt(x)$, for maximization algorithm, $r(n)A(x)\\geq opt(x)$.  \n",
    "By the definition, $r(n)\\geq 1$"
   ]
  },
  {
   "cell_type": "markdown",
   "metadata": {},
   "source": [
    "**Example min vertex cover**  \n",
    "Idea 1: Pick vertices greedily by non-increasing degree. (pick one, remove edges connected to the removed vertex). $r(n)\\in O(\\log n)$.  \n",
    "Idea2: repeatedly pick an edge $(u,v)$, remove $u,v$,$C=C\\cup\\{u,v\\}$ and remove all edges attaches to them.  \n",
    "Correctness: all edges are removed as they are covered and algo ends with no edge remaining\n",
    "Runtime: $O(|E|^2)$"
   ]
  }
 ],
 "metadata": {
  "kernelspec": {
   "display_name": "Python 3",
   "language": "python",
   "name": "python3"
  },
  "language_info": {
   "codemirror_mode": {
    "name": "ipython",
    "version": 3
   },
   "file_extension": ".py",
   "mimetype": "text/x-python",
   "name": "python",
   "nbconvert_exporter": "python",
   "pygments_lexer": "ipython3",
   "version": "3.6.8"
  }
 },
 "nbformat": 4,
 "nbformat_minor": 2
}
