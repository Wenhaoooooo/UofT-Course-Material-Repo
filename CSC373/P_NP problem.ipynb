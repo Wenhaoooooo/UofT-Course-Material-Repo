{
 "cells": [
  {
   "cell_type": "markdown",
   "metadata": {},
   "source": [
    "#### Goal\n",
    "Study algorithm running time\n",
    " - need precise model of computation. All models of computation are equivalent to each other to within a polynomial factor, with one exception: non-deterministic models, where there is exponential gap.\n",
    " "
   ]
  },
  {
   "cell_type": "markdown",
   "metadata": {},
   "source": [
    "#### P/NP\n",
    "$P= $ set of every problem solvable by some deterministic algorithm in _worst case_<sup>\\*</sup> polynomial time  \n",
    "$NP = $ set of every problem solvable by some **non-deterministic algorithm** in polynomial time\n",
    "\n",
    "\\* runtime measured as a function of the exact bit size of the input\n",
    "Example: bit size of integers $\\{a_1,a_2,...,a_n\\}=\\lg a_1 + \\lg a_2 +...+\\lg a_n \\leq n\\max\\{\\lg a_1,...,\\lg a_n\\}$\n",
    "\n"
   ]
  }
 ],
 "metadata": {
  "hide_input": false,
  "kernelspec": {
   "display_name": "Python 3",
   "language": "python",
   "name": "python3"
  },
  "language_info": {
   "codemirror_mode": {
    "name": "ipython",
    "version": 3
   },
   "file_extension": ".py",
   "mimetype": "text/x-python",
   "name": "python",
   "nbconvert_exporter": "python",
   "pygments_lexer": "ipython3",
   "version": "3.6.8"
  }
 },
 "nbformat": 4,
 "nbformat_minor": 2
}
