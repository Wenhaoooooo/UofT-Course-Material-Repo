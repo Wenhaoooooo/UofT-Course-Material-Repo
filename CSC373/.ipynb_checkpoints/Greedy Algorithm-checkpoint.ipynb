{
 "cells": [
  {
   "cell_type": "markdown",
   "metadata": {},
   "source": [
    "## Greedy Algorithm\n",
    "### Q1\n",
    "$A = \\{a_1,...,a_n\\}$ set of tasks, $|A|=n$, $s_i=$ start time, $f_i=$ finish time。 $S \\subseteq A. S=$ set of tasks without overlap. Maximize $S$."
   ]
  }
 ],
 "metadata": {
  "kernelspec": {
   "display_name": "Python 3",
   "language": "python",
   "name": "python3"
  },
  "language_info": {
   "codemirror_mode": {
    "name": "ipython",
    "version": 3
   },
   "file_extension": ".py",
   "mimetype": "text/x-python",
   "name": "python",
   "nbconvert_exporter": "python",
   "pygments_lexer": "ipython3",
   "version": "3.7.1"
  }
 },
 "nbformat": 4,
 "nbformat_minor": 2
}
